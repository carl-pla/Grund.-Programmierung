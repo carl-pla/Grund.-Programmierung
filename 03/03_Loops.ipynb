{
 "cells": [
  {
   "cell_type": "markdown",
   "id": "bd712c16-0880-40a3-9a89-c62e4a1c268e",
   "metadata": {},
   "source": [
    "### While-Schleifen"
   ]
  },
  {
   "cell_type": "code",
   "execution_count": 1,
   "id": "2cd88d9f-d1f6-46e9-b5df-6729a4566577",
   "metadata": {},
   "outputs": [
    {
     "name": "stdout",
     "output_type": "stream",
     "text": [
      "aaaa\n"
     ]
    }
   ],
   "source": [
    "number_of_a = int(input(\"Anzahl des Buchstaben a?\"))\n",
    "\n",
    "ausgabe = \"\"\n",
    "\n",
    "while len(ausgabe) < number_of_a:\n",
    "    ausgabe = ausgabe + \"a\"\n",
    "\n",
    "print(ausgabe)"
   ]
  },
  {
   "cell_type": "code",
   "execution_count": 6,
   "id": "2a939f67-e870-45ea-89c6-dd9c659d490a",
   "metadata": {},
   "outputs": [
    {
     "name": "stdout",
     "output_type": "stream",
     "text": [
      "Bitte geben Sie eine ganze Zahl > 0 ein: 987\n"
     ]
    },
    {
     "name": "stdout",
     "output_type": "stream",
     "text": [
      "Quersumme = 24\n"
     ]
    }
   ],
   "source": [
    "number = input(\"Bitte geben Sie eine ganze Zahl > 0 ein:\")\n",
    "\n",
    "summe = 0\n",
    "j = 0\n",
    "while j < len(number):\n",
    "    summe = summe + int( int(number[j]) )\n",
    "    j = j+1\n",
    "    \n",
    "print(f\"Quersumme = {summe}\")"
   ]
  },
  {
   "cell_type": "code",
   "execution_count": null,
   "id": "97a33032-1493-4a27-9dc3-80553e91db89",
   "metadata": {},
   "outputs": [],
   "source": []
  },
  {
   "cell_type": "code",
   "execution_count": null,
   "id": "1744d1e2-3604-4233-a414-1cfb98a8afe3",
   "metadata": {},
   "outputs": [],
   "source": [
    "\"\"\"\n",
    "Suche eine Zahl, die durch 11 und 13 teilbar ist.\n",
    "Selbstverständlich kennen wir ein Ergebnis: 11*13 = 143.\n",
    "Wir wollen das Problem mittels \"brute force\" lösen, d.h. durch Testen der natürlichen Zahlen ab 1.\n",
    "\n",
    "Welches Problem liegt hier vor?\n",
    "\"\"\"\n",
    "\n",
    "n=1\n",
    "while True:\n",
    "    if n%11 == 0 and n%13 == 0:\n",
    "        print(n)\n",
    "    n = n+1"
   ]
  },
  {
   "cell_type": "markdown",
   "id": "dfdacc2b-ea0f-4e64-9620-ce47656f21cf",
   "metadata": {},
   "source": [
    "### Break\n",
    "\n",
    "#### Mittels des Statements break kann eine Schleife vorzeitig beendet werden und wir können Endlosschleifen vermeiden"
   ]
  },
  {
   "cell_type": "code",
   "execution_count": 4,
   "id": "d0ced2cf-030a-4478-8cb7-fcf80205242e",
   "metadata": {},
   "outputs": [
    {
     "name": "stdout",
     "output_type": "stream",
     "text": [
      "143\n",
      "Die While-Schleife wurde beendet\n"
     ]
    }
   ],
   "source": [
    "\"\"\"\n",
    "Wir stoppen nun, sobald wir eine Zahl mit der Eigenschaft gefunden haben.\n",
    "\"\"\"\n",
    "n = 1\n",
    "while True:\n",
    "    if n%11 == 0 and n%13 == 0:\n",
    "        print(n)\n",
    "        break # wir verlassen die Schleife\n",
    "    else:\n",
    "        n = n+1\n",
    "\n",
    "print(\"Die While-Schleife wurde beendet\")"
   ]
  },
  {
   "cell_type": "markdown",
   "id": "d24f3fd4-6405-4e4a-864e-9abaa10b08f5",
   "metadata": {},
   "source": [
    "### For-Schleife\n",
    "#### Über Objekte eines Sequenz-Datentyps kann in einer For-Schleife iteriert werden."
   ]
  },
  {
   "cell_type": "markdown",
   "id": "b5996f90-46e9-4d2a-b943-cdb9d54a3810",
   "metadata": {},
   "source": [
    "#### Tupel"
   ]
  },
  {
   "cell_type": "code",
   "execution_count": null,
   "id": "161ff809",
   "metadata": {},
   "outputs": [],
   "source": []
  },
  {
   "cell_type": "code",
   "execution_count": 5,
   "id": "c072917c-d8ee-4e99-8613-37a115b91e27",
   "metadata": {},
   "outputs": [
    {
     "name": "stdout",
     "output_type": "stream",
     "text": [
      "15\n"
     ]
    }
   ],
   "source": [
    "summe = 0\n",
    "for k in (1,2,3,4,5):\n",
    "    summe = summe + k\n",
    "    \n",
    "print(summe)"
   ]
  },
  {
   "cell_type": "markdown",
   "id": "1b8d3a38-92a0-4d3a-8d88-6357f7c5c87e",
   "metadata": {},
   "source": [
    "#### Debugging\n",
    "\n",
    "Es hilft bei der Fehlersuche oft, die Werte der beteiligten Variablen bei jeder Iteration auszugeben."
   ]
  },
  {
   "cell_type": "code",
   "execution_count": 2,
   "id": "4a798183",
   "metadata": {},
   "outputs": [
    {
     "name": "stdout",
     "output_type": "stream",
     "text": [
      "Iterationsschritt 1: Summe = 1\n",
      "Iterationsschritt 2: Summe = 3\n",
      "Iterationsschritt 3: Summe = 6\n",
      "Iterationsschritt 4: Summe = 10\n",
      "Iterationsschritt 5: Summe = 15\n",
      "Endergebnis: Summe = 15\n"
     ]
    }
   ],
   "source": [
    "summe = 0\n",
    "for k in range(1,6): \n",
    "    summe += k \n",
    "    print(f\"Iterationsschritt {k}: Summe = {summe}\")\n",
    "print(f\"Endergebnis: Summe = {summe}\")"
   ]
  },
  {
   "cell_type": "code",
   "execution_count": 3,
   "id": "e69129f4-7b2d-4dde-98c7-58bffd1fab1a",
   "metadata": {},
   "outputs": [
    {
     "name": "stdout",
     "output_type": "stream",
     "text": [
      "Iterationsschritt 1: Summe =1\n",
      "Iterationsschritt 2: Summe =3\n",
      "Iterationsschritt 3: Summe =6\n",
      "Iterationsschritt 4: Summe =10\n",
      "Iterationsschritt 5: Summe =15\n",
      "Endergebnis = 15\n"
     ]
    }
   ],
   "source": [
    "summe = 0\n",
    "for k in (1,2,3,4,5):\n",
    "    summe = summe + k\n",
    "    print(f\"Iterationsschritt {k}: Summe ={summe}\")\n",
    "    \n",
    "print(f\"Endergebnis = {summe}\")"
   ]
  },
  {
   "cell_type": "markdown",
   "id": "8ce38c53-6ac9-4728-b5c7-0d966a33561c",
   "metadata": {},
   "source": [
    "#### str ist ein Sequenz-Datentyp => Iteration möglich"
   ]
  },
  {
   "cell_type": "code",
   "execution_count": 7,
   "id": "f766910d-9c80-4952-b1b0-c3e1c169365e",
   "metadata": {},
   "outputs": [
    {
     "name": "stdout",
     "output_type": "stream",
     "text": [
      "Obi Wan\n"
     ]
    }
   ],
   "source": [
    "name =\"Obi \"\n",
    "for k in \"Wan\":\n",
    "    name = name + k\n",
    "\n",
    "print(name)"
   ]
  },
  {
   "cell_type": "code",
   "execution_count": null,
   "id": "41c919e7-6aa3-4a1a-9598-30fd4c3aed2a",
   "metadata": {},
   "outputs": [],
   "source": []
  }
 ],
 "metadata": {
  "kernelspec": {
   "display_name": "storefront",
   "language": "python",
   "name": "python3"
  },
  "language_info": {
   "codemirror_mode": {
    "name": "ipython",
    "version": 3
   },
   "file_extension": ".py",
   "mimetype": "text/x-python",
   "name": "python",
   "nbconvert_exporter": "python",
   "pygments_lexer": "ipython3",
   "version": "3.12.2"
  }
 },
 "nbformat": 4,
 "nbformat_minor": 5
}
