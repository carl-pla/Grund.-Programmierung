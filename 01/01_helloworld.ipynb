{
 "cells": [
  {
   "cell_type": "code",
   "execution_count": 2,
   "id": "d4643adb",
   "metadata": {},
   "outputs": [
    {
     "name": "stdout",
     "output_type": "stream",
     "text": [
      "Hello, World!\n"
     ]
    }
   ],
   "source": [
    "print(\"Hello, World!\")"
   ]
  },
  {
   "cell_type": "code",
   "execution_count": 3,
   "id": "b2563c31",
   "metadata": {},
   "outputs": [
    {
     "name": "stdout",
     "output_type": "stream",
     "text": [
      "15\n"
     ]
    }
   ],
   "source": [
    "x = 5 \n",
    "y = 10 \n",
    "print (x+y)"
   ]
  },
  {
   "cell_type": "code",
   "execution_count": 4,
   "id": "e7cbaf42",
   "metadata": {},
   "outputs": [
    {
     "ename": "TypeError",
     "evalue": "can only concatenate str (not \"int\") to str",
     "output_type": "error",
     "traceback": [
      "\u001b[31m---------------------------------------------------------------------------\u001b[39m",
      "\u001b[31mTypeError\u001b[39m                                 Traceback (most recent call last)",
      "\u001b[36mCell\u001b[39m\u001b[36m \u001b[39m\u001b[32mIn[4]\u001b[39m\u001b[32m, line 1\u001b[39m\n\u001b[32m----> \u001b[39m\u001b[32m1\u001b[39m \u001b[38;5;28mprint\u001b[39m(\u001b[33;43m\"\u001b[39;49m\u001b[33;43mHello Wolrd\u001b[39;49m\u001b[33;43m\"\u001b[39;49m\u001b[43m \u001b[49m\u001b[43m+\u001b[49m\u001b[43m \u001b[49m\u001b[43m(\u001b[49m\u001b[43mx\u001b[49m\u001b[43m \u001b[49m\u001b[43m*\u001b[49m\u001b[43m \u001b[49m\u001b[43my\u001b[49m\u001b[43m)\u001b[49m)\n",
      "\u001b[31mTypeError\u001b[39m: can only concatenate str (not \"int\") to str"
     ]
    }
   ],
   "source": [
    "print(\"Hello Wolrd\" + (x * y))"
   ]
  },
  {
   "cell_type": "code",
   "execution_count": 5,
   "id": "9c062a9b",
   "metadata": {},
   "outputs": [
    {
     "name": "stdout",
     "output_type": "stream",
     "text": [
      "Hello, World! 15\n"
     ]
    }
   ],
   "source": [
    "print(\"Hello, World!\", int(x+y))"
   ]
  },
  {
   "cell_type": "code",
   "execution_count": 6,
   "id": "b3acd8af",
   "metadata": {},
   "outputs": [
    {
     "name": "stdout",
     "output_type": "stream",
     "text": [
      "Help on built-in function print in module builtins:\n",
      "\n",
      "print(*args, sep=' ', end='\\n', file=None, flush=False)\n",
      "    Prints the values to a stream, or to sys.stdout by default.\n",
      "    \n",
      "    sep\n",
      "      string inserted between values, default a space.\n",
      "    end\n",
      "      string appended after the last value, default a newline.\n",
      "    file\n",
      "      a file-like object (stream); defaults to the current sys.stdout.\n",
      "    flush\n",
      "      whether to forcibly flush the stream.\n",
      "\n"
     ]
    }
   ],
   "source": [
    "help(print)"
   ]
  },
  {
   "cell_type": "code",
   "execution_count": 7,
   "id": "7c9efc2f",
   "metadata": {},
   "outputs": [
    {
     "name": "stdout",
     "output_type": "stream",
     "text": [
      "hello worldhello Karlsruhe\n"
     ]
    }
   ],
   "source": [
    "print(\"hello world\", \"hello Karlsruhe\", sep=\"\")"
   ]
  },
  {
   "cell_type": "code",
   "execution_count": 8,
   "id": "87c5619e",
   "metadata": {},
   "outputs": [
    {
     "name": "stdout",
     "output_type": "stream",
     "text": [
      "hello world hello Karlsruhe\n",
      " "
     ]
    }
   ],
   "source": [
    "print(\"hello world\", \"hello Karlsruhe\", end=\"\\n \")"
   ]
  },
  {
   "cell_type": "code",
   "execution_count": 9,
   "id": "952123f5",
   "metadata": {},
   "outputs": [
    {
     "name": "stdout",
     "output_type": "stream",
     "text": [
      "Hello worldhello Karlsruhe\n",
      " "
     ]
    }
   ],
   "source": [
    "print(\"Hello world\", \"hello Karlsruhe\", sep=\"\", end=\"\\n \")"
   ]
  },
  {
   "cell_type": "code",
   "execution_count": 10,
   "id": "0418f896",
   "metadata": {},
   "outputs": [
    {
     "name": "stdout",
     "output_type": "stream",
     "text": [
      "Hello, World!\n",
      "Hello, Karlsruhe!"
     ]
    }
   ],
   "source": [
    "print(\"Hello, World!\", end=\"\\n\" + \"Hello, Karlsruhe!\")"
   ]
  },
  {
   "cell_type": "code",
   "execution_count": 11,
   "id": "3f179d79",
   "metadata": {},
   "outputs": [
    {
     "name": "stdout",
     "output_type": "stream",
     "text": [
      "Hello, World!Hello Karlsruhe!\n"
     ]
    }
   ],
   "source": [
    "print(\"Hello, World!\" + \"Hello Karlsruhe!\")"
   ]
  },
  {
   "cell_type": "code",
   "execution_count": null,
   "id": "64b1dcde",
   "metadata": {},
   "outputs": [],
   "source": []
  }
 ],
 "metadata": {
  "kernelspec": {
   "display_name": "env",
   "language": "python",
   "name": "python3"
  },
  "language_info": {
   "codemirror_mode": {
    "name": "ipython",
    "version": 3
   },
   "file_extension": ".py",
   "mimetype": "text/x-python",
   "name": "python",
   "nbconvert_exporter": "python",
   "pygments_lexer": "ipython3",
   "version": "3.11.3"
  }
 },
 "nbformat": 4,
 "nbformat_minor": 5
}
