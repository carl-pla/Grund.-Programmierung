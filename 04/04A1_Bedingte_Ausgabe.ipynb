{
 "cells": [
  {
   "cell_type": "markdown",
   "id": "121dfca7-3c23-498a-a154-9a2e44f8ead4",
   "metadata": {},
   "source": [
    "## Bedingte Ausgabe\n",
    "\n",
    "Implementieren Sie eine Funktion *`conditional_print(test)`* höherer Ordnung, die bedingte Druckfunktionen konstruiert. Die Funktion soll einen einzigen formalen Parameter test haben. Ein test soll eine beliebige Funktion sein, die nur True oder False zurückgibt. \n",
    "Wird conditional_print mit einer konkreten Test-Funktion aufgerufen, wird eine Print-Funktion zurückgegeben, die nur dann eine Ausgabe ausgibt, wenn die Test-Funktion True zurückgibt."
   ]
  },
  {
   "cell_type": "code",
   "execution_count": null,
   "id": "623883c1-8e99-46c4-95e5-2ecd5a4690d7",
   "metadata": {},
   "outputs": [],
   "source": [
    "def conditional_print(test):\n",
    "    \"\"\"\n",
    "    Konstruiert eine Print-Funktion, die eine Ausgabe nur dann vornimmt, \n",
    "    wenn die test-Funktion als Ergebnis True zurückgibt.\n",
    "    \n",
    "    args:\n",
    "      test: Eine Funktion, die True oder False zurückgibt.\n",
    "      \n",
    "    return value:\n",
    "      print_if_test: Eine Print-Funktion, die eine Nachricht  nur dann ausgibt, \n",
    "      wenn test(Nachricht) True ist.\n",
    "    \"\"\"\n",
    "    def print_if_test(x):\n",
    "        if test(x) == True:\n",
    "            print(x)\n",
    "            \n",
    "    return print_if_test"
   ]
  },
  {
   "cell_type": "markdown",
   "id": "ac397fde-cef0-4212-86bd-881a4b2b5ac7",
   "metadata": {},
   "source": [
    "#### Wir definieren eine Test-Funktion is_even für ganze Zahlen"
   ]
  },
  {
   "cell_type": "code",
   "execution_count": null,
   "id": "8809e26c-1163-4068-95df-fbf1d73b4d4f",
   "metadata": {},
   "outputs": [],
   "source": [
    "def is_even(ganze_zahl):    \n",
    "    \n",
    "    if ( type(ganze_zahl) == int ) and ( ganze_zahl%2 == 0 ):\n",
    "        is_even = True\n",
    "    else:\n",
    "        is_even = False\n",
    "    \n",
    "    return is_even\n",
    "    \n",
    "# Test der Funktion is_even\n",
    "print(is_even(42))\n",
    "print(is_even(-6))\n",
    "print(is_even(7))\n",
    "print(is_even(7.0))\n",
    "print(is_even(\"abc\"))"
   ]
  },
  {
   "cell_type": "markdown",
   "id": "27b2ef45-499c-4865-890b-dffa76695e0c",
   "metadata": {},
   "source": [
    "#### Test der conditional_print Funktion"
   ]
  },
  {
   "cell_type": "code",
   "execution_count": null,
   "id": "21bf83c1-6119-4464-a3d5-3a773a65a54b",
   "metadata": {},
   "outputs": [],
   "source": [
    "print_if_even_number = conditional_print(is_even)\n",
    "\n",
    "print_if_even_number(42)\n",
    "print_if_even_number(-12)\n",
    "print_if_even_number(7)\n",
    "print_if_even_number(7.7)\n",
    "print_if_even_number(\"abc\")"
   ]
  },
  {
   "cell_type": "markdown",
   "id": "55b9bbf7-c5a7-4828-9f0d-9f3bcf824e42",
   "metadata": {},
   "source": [
    "##### Aufruf auch mit Lambda-Ausdruck"
   ]
  },
  {
   "cell_type": "code",
   "execution_count": null,
   "id": "66a20952-745f-4aff-b70c-bf93abae8971",
   "metadata": {},
   "outputs": [],
   "source": [
    "print_if_odd_number = conditional_print(lambda x: (type(x) == int) and (x%2 == 1))\n",
    "\n",
    "print_if_odd_number(42)\n",
    "print_if_odd_number(-12)\n",
    "print_if_odd_number(7)\n",
    "print_if_odd_number(7.7)\n",
    "print_if_odd_number(\"abc\")"
   ]
  },
  {
   "cell_type": "code",
   "execution_count": null,
   "id": "99c005eb-9fe2-4b95-b3c7-a564f1be51cf",
   "metadata": {},
   "outputs": [],
   "source": []
  }
 ],
 "metadata": {
  "kernelspec": {
   "display_name": "Python 3 (ipykernel)",
   "language": "python",
   "name": "python3"
  },
  "language_info": {
   "codemirror_mode": {
    "name": "ipython",
    "version": 3
   },
   "file_extension": ".py",
   "mimetype": "text/x-python",
   "name": "python",
   "nbconvert_exporter": "python",
   "pygments_lexer": "ipython3",
   "version": "3.12.1"
  }
 },
 "nbformat": 4,
 "nbformat_minor": 5
}
