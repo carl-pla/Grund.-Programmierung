{
 "cells": [
  {
   "cell_type": "markdown",
   "id": "96cbbef9-a19f-49aa-b523-d668f585902d",
   "metadata": {},
   "source": [
    "## Funktionen"
   ]
  },
  {
   "cell_type": "code",
   "execution_count": 1,
   "id": "528f34ac-d941-487d-9dc2-020e26f8705c",
   "metadata": {},
   "outputs": [
    {
     "name": "stdout",
     "output_type": "stream",
     "text": [
      "9\n",
      "25\n"
     ]
    }
   ],
   "source": [
    "def quadrat(x):\n",
    "    return x**2\n",
    "\n",
    "print(quadrat(3))\n",
    "print(quadrat(-5))"
   ]
  },
  {
   "cell_type": "markdown",
   "id": "43785691-050e-4ac4-b715-632ecea601f9",
   "metadata": {},
   "source": [
    "#### Funktionsaufrufe sind Ausdrücke und können selbst in Ausdrücken verwendet werden "
   ]
  },
  {
   "cell_type": "code",
   "execution_count": 2,
   "id": "598dc352-f9eb-4a33-93f5-a9931582b0b4",
   "metadata": {},
   "outputs": [
    {
     "name": "stdout",
     "output_type": "stream",
     "text": [
      "25\n"
     ]
    }
   ],
   "source": [
    "z = quadrat(3) + quadrat(4)\n",
    "print(z)"
   ]
  },
  {
   "cell_type": "markdown",
   "id": "c0fd4299-2c1c-4c01-86a8-8a4268158c4f",
   "metadata": {},
   "source": [
    "### Formale Parameter und Argumente "
   ]
  },
  {
   "cell_type": "code",
   "execution_count": null,
   "id": "534e589f-e1fa-4df2-a775-5c7b0084ff52",
   "metadata": {},
   "outputs": [],
   "source": [
    "def print_name(first, last):\n",
    "    print(f\"{first} {last}\")\n",
    "\n",
    "# Die folgenden Aufrufe führen alle zum selben Ergebnis\n",
    "# 1. Positional Arguments\n",
    "print_name(\"Luke\", \"Skywalker\")\n",
    "\n",
    "# 2. Keyword Arguments\n",
    "print_name(first=\"Luke\", last=\"Skywalker\")\n",
    "print_name(last=\"Skywalker\", first=\"Luke\")\n",
    "\n",
    "# Mischung aus beiden Varianten\n",
    "print_name(\"Luke\", last=\"Skywalker\")"
   ]
  },
  {
   "cell_type": "markdown",
   "id": "d9b7ed3a-c2de-439c-b6a0-312961a0ec55",
   "metadata": {},
   "source": [
    "Wenn die Varianten zusammen verwendet werden, kommen die Keyword-Argumente immer zum Schluss!"
   ]
  },
  {
   "cell_type": "code",
   "execution_count": null,
   "id": "d1eb2b0d-2a5f-43e0-890c-2124c1977039",
   "metadata": {},
   "outputs": [],
   "source": [
    "# Fehlerhaft:\n",
    "print_name(last=\"Luke\", \"Skywalker\")"
   ]
  },
  {
   "cell_type": "markdown",
   "id": "9f1eec06-8d03-48b1-bb85-89a31f538bb0",
   "metadata": {},
   "source": [
    "Jeder formale Parameter darf nur einmal versorgt werden"
   ]
  },
  {
   "cell_type": "code",
   "execution_count": null,
   "id": "05f89ed4-70a3-41f1-9335-adc5be19d723",
   "metadata": {},
   "outputs": [],
   "source": [
    "# Fehlerhaft:\n",
    "print_name(\"Luke\", first = \"Luke\")"
   ]
  },
  {
   "cell_type": "markdown",
   "id": "868b5581-0f2b-432e-98c3-b786fa943c38",
   "metadata": {},
   "source": [
    "### Optionale Formale Parameter / Default Werte"
   ]
  },
  {
   "cell_type": "code",
   "execution_count": null,
   "id": "e0f1781f-fbb2-4cf8-b26b-9f08660186a4",
   "metadata": {},
   "outputs": [],
   "source": [
    "def print_name(first, last, first_abbreviated=False):\n",
    "    if first_abbreviated == False:\n",
    "        print(f\"{first} {last}\")\n",
    "    else:\n",
    "        print(f\"{first[0]}. {last}\")\n",
    "\n",
    "# Optionaler formaler Parameter nicht verwendet:\n",
    "print_name(\"Luke\", \"Skywalker\")\n",
    "\n",
    "# Mit Verwendung des optionalen Parameters:\n",
    "print_name(first=\"Luke\", last=\"Skywalker\", first_abbreviated=False)\n",
    "print_name(first=\"Luke\", last=\"Skywalker\", first_abbreviated=True)"
   ]
  },
  {
   "cell_type": "markdown",
   "id": "80f66fda-b6e4-43f6-a3a5-8cf4cc76b96f",
   "metadata": {},
   "source": [
    "### Variable Anzahl von Argumenten: Unpacking Operator *"
   ]
  },
  {
   "cell_type": "code",
   "execution_count": 3,
   "id": "97d6e90d-8e10-45a2-b5e8-02af63c88118",
   "metadata": {},
   "outputs": [
    {
     "name": "stdout",
     "output_type": "stream",
     "text": [
      "Summe = 6\n"
     ]
    }
   ],
   "source": [
    "def summe(*summanden):\n",
    "    summe = 0\n",
    "    for summand in summanden:\n",
    "        summe = summe + summand\n",
    "    return summe\n",
    "\n",
    "print( f\"Summe = {summe(1,2,3)}\" )"
   ]
  },
  {
   "cell_type": "markdown",
   "id": "be955834-3297-48f1-99b5-f74d94ceb28f",
   "metadata": {},
   "source": [
    "#### Aufrufe von Funktionen innerhalb anderer Funktionen"
   ]
  },
  {
   "cell_type": "code",
   "execution_count": 1,
   "id": "be0f3064-1f05-4cb4-8b18-ac8f01fe502e",
   "metadata": {},
   "outputs": [
    {
     "name": "stdout",
     "output_type": "stream",
     "text": [
      "6\n",
      "2.0\n"
     ]
    }
   ],
   "source": [
    "def summe(*summanden):\n",
    "    summe = 0\n",
    "    for summand in summanden:\n",
    "        summe = summe + summand\n",
    "    return summe\n",
    "    \n",
    "def mittelwert(*zahlen):\n",
    "    mittelwert = summe(*zahlen)/len(zahlen)\n",
    "    return mittelwert\n",
    "    \n",
    "print( summe(1,2,3) )\n",
    "print( mittelwert(1,2,3) )"
   ]
  },
  {
   "cell_type": "markdown",
   "id": "e7ec8030-3725-492d-93d9-ab3b8cdc7cbd",
   "metadata": {},
   "source": [
    "### Mehrere Rückgabewerte"
   ]
  },
  {
   "cell_type": "code",
   "execution_count": 6,
   "id": "6a9289bf-109f-4e47-b6d4-9b0a7ba0dc42",
   "metadata": {},
   "outputs": [
    {
     "name": "stdout",
     "output_type": "stream",
     "text": [
      "(2, 3, 5, 7, 11, 13, 17, 19, 23, 29)\n"
     ]
    }
   ],
   "source": [
    "def first_10_prime_numbers():\n",
    "    return 2, 3, 5, 7, 11, 13, 17, 19, 23, 29\n",
    "\n",
    "# Ergebnis der Funktion ist ein Tupel:\n",
    "print(first_10_prime_numbers())"
   ]
  },
  {
   "cell_type": "markdown",
   "id": "ac7feecd-1ebf-47b9-9011-d1a77e0a78e3",
   "metadata": {},
   "source": [
    "#### Zugriff auf einen Teil des Rückgabeobjekts mit dem Unpacking Operator *"
   ]
  },
  {
   "cell_type": "code",
   "execution_count": null,
   "id": "1777516c-634e-485a-ad23-fb055b6377ea",
   "metadata": {},
   "outputs": [],
   "source": [
    "first_prime, second_prime, *rest = first_10_prime_numbers()\n",
    "\n",
    "print(first_prime)\n",
    "print(second_prime)"
   ]
  },
  {
   "cell_type": "markdown",
   "id": "2c774b32-f3d7-4985-8133-aca89cee349f",
   "metadata": {},
   "source": [
    "Es ist in Python üblich, Variablen, die man nicht weiter benötigt, mit \"_\" zu bennenen (\"Wegwerfvariable\").\n",
    "Wenn z.B. nur die erste und 10te Primzahl benötigt wird:"
   ]
  },
  {
   "cell_type": "code",
   "execution_count": null,
   "id": "ed0c1a19-a969-4d35-b725-46c02b90f646",
   "metadata": {},
   "outputs": [
    {
     "name": "stdout",
     "output_type": "stream",
     "text": [
      "2\n",
      "29\n"
     ]
    }
   ],
   "source": [
    "first_prime, *_, tenth_prime = first_10_prime_numbers() #*_ schließt alle mittleren Zahlen aus\n",
    "\n",
    "print(first_prime)\n",
    "print(tenth_prime)"
   ]
  },
  {
   "cell_type": "code",
   "execution_count": 6,
   "id": "3dbbd966-2df6-49df-9b98-814da259e09a",
   "metadata": {},
   "outputs": [
    {
     "name": "stdout",
     "output_type": "stream",
     "text": [
      "23\n"
     ]
    }
   ],
   "source": [
    "print(_)"
   ]
  },
  {
   "cell_type": "code",
   "execution_count": 8,
   "id": "49d6d9a6-7219-4429-a95c-16757f5e1036",
   "metadata": {},
   "outputs": [
    {
     "name": "stdout",
     "output_type": "stream",
     "text": [
      "2\n",
      "17\n",
      "29\n",
      "Wegwerfvariable: 23\n"
     ]
    }
   ],
   "source": [
    "first_prime, *_, seventh_prime, _, _, tenth_prime = first_10_prime_numbers()\n",
    "\n",
    "print(first_prime)\n",
    "print(seventh_prime)\n",
    "print(tenth_prime)\n",
    "\n",
    "print(f\"Wegwerfvariable: {_}\")"
   ]
  },
  {
   "cell_type": "code",
   "execution_count": null,
   "id": "bb3c4376-e01c-4045-82f9-31893a31d34a",
   "metadata": {},
   "outputs": [],
   "source": []
  }
 ],
 "metadata": {
  "kernelspec": {
   "display_name": "storefront",
   "language": "python",
   "name": "python3"
  },
  "language_info": {
   "codemirror_mode": {
    "name": "ipython",
    "version": 3
   },
   "file_extension": ".py",
   "mimetype": "text/x-python",
   "name": "python",
   "nbconvert_exporter": "python",
   "pygments_lexer": "ipython3",
   "version": "3.12.2"
  }
 },
 "nbformat": 4,
 "nbformat_minor": 5
}
