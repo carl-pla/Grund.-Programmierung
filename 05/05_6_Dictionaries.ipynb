{
 "cells": [
  {
   "cell_type": "markdown",
   "id": "7421341c-c88d-41cc-b93a-855b9378e4db",
   "metadata": {},
   "source": [
    "## Dictionaries"
   ]
  },
  {
   "cell_type": "code",
   "execution_count": 3,
   "id": "90ada9fe-63a8-4fba-9e12-381ec82a3a85",
   "metadata": {
    "jupyter": {
     "source_hidden": true
    }
   },
   "outputs": [
    {
     "name": "stdout",
     "output_type": "stream",
     "text": [
      "{'England': 'London', 'Frankreich': 'Paris', 'Deutschland': 'Berlin'}\n"
     ]
    }
   ],
   "source": [
    "laender = {\n",
    "    \"England\"    : \"London\", \n",
    "    \"Frankreich\" : \"Paris\",\n",
    "    \"Deutschland\": \"Berlin\"\n",
    "}\n",
    "\n",
    "print(laender)"
   ]
  },
  {
   "cell_type": "code",
   "execution_count": 4,
   "id": "5807d82b-534a-4146-9893-e165c65860a5",
   "metadata": {
    "jupyter": {
     "source_hidden": true
    }
   },
   "outputs": [
    {
     "data": {
      "text/plain": [
       "dict"
      ]
     },
     "execution_count": 4,
     "metadata": {},
     "output_type": "execute_result"
    }
   ],
   "source": [
    "type(laender)"
   ]
  },
  {
   "cell_type": "markdown",
   "id": "1f1fe12a-3265-434a-a08a-7068fd4d205e",
   "metadata": {},
   "source": [
    "#### Zugriff über Schlüsselwort, nicht über Index"
   ]
  },
  {
   "cell_type": "code",
   "execution_count": 5,
   "id": "cd5b051e-21b0-49e7-94e3-52a9830bbac8",
   "metadata": {
    "jupyter": {
     "source_hidden": true
    }
   },
   "outputs": [
    {
     "data": {
      "text/plain": [
       "'London'"
      ]
     },
     "execution_count": 5,
     "metadata": {},
     "output_type": "execute_result"
    }
   ],
   "source": [
    "laender[\"England\"]"
   ]
  },
  {
   "cell_type": "code",
   "execution_count": 6,
   "id": "824bb152-72d0-4306-966e-a26db15ae1ed",
   "metadata": {
    "jupyter": {
     "source_hidden": true
    }
   },
   "outputs": [
    {
     "ename": "KeyError",
     "evalue": "0",
     "output_type": "error",
     "traceback": [
      "\u001b[31m---------------------------------------------------------------------------\u001b[39m",
      "\u001b[31mKeyError\u001b[39m                                  Traceback (most recent call last)",
      "\u001b[36mCell\u001b[39m\u001b[36m \u001b[39m\u001b[32mIn[6]\u001b[39m\u001b[32m, line 1\u001b[39m\n\u001b[32m----> \u001b[39m\u001b[32m1\u001b[39m \u001b[43mlaender\u001b[49m\u001b[43m[\u001b[49m\u001b[32;43m0\u001b[39;49m\u001b[43m]\u001b[49m\n",
      "\u001b[31mKeyError\u001b[39m: 0"
     ]
    }
   ],
   "source": [
    "laender[0]"
   ]
  },
  {
   "cell_type": "markdown",
   "id": "266117f5-6de4-4158-8d72-1fd9bac6fcce",
   "metadata": {},
   "source": [
    "#### Änderungen eines Dictionaries"
   ]
  },
  {
   "cell_type": "code",
   "execution_count": 7,
   "id": "40fd49cc-d488-4fac-8bae-7b089c954de6",
   "metadata": {
    "jupyter": {
     "source_hidden": true
    }
   },
   "outputs": [
    {
     "name": "stdout",
     "output_type": "stream",
     "text": [
      "{'England': 'London', 'Frankreich': 'Paris', 'Deutschland': 'Berlin', 'Brasilien': 'Rio de Janeiro'}\n"
     ]
    }
   ],
   "source": [
    "# Hinzufügen eines neuen Eintrags\n",
    "laender[\"Brasilien\"] = \"Rio de Janeiro\"\n",
    "print(laender)"
   ]
  },
  {
   "cell_type": "markdown",
   "id": "860180f5-2408-4af7-bbb1-88d90baf96ef",
   "metadata": {},
   "source": [
    "Jetzt haben wir aber einen Fehler gemacht - d.h., wir müssen einen Eintrag im Dictionary korrigieren (ändern)."
   ]
  },
  {
   "cell_type": "code",
   "execution_count": 8,
   "id": "aae7e39d-f7df-4946-af87-f1ac069374af",
   "metadata": {
    "jupyter": {
     "source_hidden": true
    }
   },
   "outputs": [
    {
     "name": "stdout",
     "output_type": "stream",
     "text": [
      "{'England': 'London', 'Frankreich': 'Paris', 'Deutschland': 'Berlin', 'Brasilien': 'Brasilia'}\n"
     ]
    }
   ],
   "source": [
    "laender[\"Brasilien\"] = \"Brasilia\" #seit 1960\n",
    "print(laender)"
   ]
  },
  {
   "cell_type": "markdown",
   "id": "689e47b9-22e7-44af-bbc8-ca6fe8b8fbea",
   "metadata": {},
   "source": [
    "#### Einträge entfernen mit der *`pop()`*-Funktion"
   ]
  },
  {
   "cell_type": "code",
   "execution_count": 9,
   "id": "b3e63e66-a44d-4e20-a5a7-e65a0909677f",
   "metadata": {
    "jupyter": {
     "source_hidden": true
    }
   },
   "outputs": [
    {
     "name": "stdout",
     "output_type": "stream",
     "text": [
      "{'England': 'London', 'Frankreich': 'Paris', 'Deutschland': 'Berlin'}\n"
     ]
    }
   ],
   "source": [
    "laender.pop(\"Brasilien\")\n",
    "print(laender)"
   ]
  },
  {
   "cell_type": "code",
   "execution_count": null,
   "id": "04278af3-2262-4000-a165-998e1b52e80b",
   "metadata": {
    "jupyter": {
     "source_hidden": true
    }
   },
   "outputs": [],
   "source": [
    "# Aufruf führt zu Fehler, wenn Eintrag nicht gefunden\n",
    "laender.pop(\"Brasilien\")"
   ]
  },
  {
   "cell_type": "markdown",
   "id": "e208d111-1fcd-4455-896a-642ea71e850a",
   "metadata": {},
   "source": [
    "### Schleifen"
   ]
  },
  {
   "cell_type": "code",
   "execution_count": null,
   "id": "a6ff6db2-f74c-4165-ba20-5141ff03b97b",
   "metadata": {
    "jupyter": {
     "source_hidden": true
    }
   },
   "outputs": [],
   "source": [
    "# Die Keys (Schlüssel) ausgeben:\n",
    "for land in laender:\n",
    "    print(land)"
   ]
  },
  {
   "cell_type": "code",
   "execution_count": null,
   "id": "de650a73-0e9a-45ce-8da9-a7b4c57b2461",
   "metadata": {
    "jupyter": {
     "source_hidden": true
    }
   },
   "outputs": [],
   "source": [
    "# Alternative\n",
    "for land in laender.keys():\n",
    "    print(land)"
   ]
  },
  {
   "cell_type": "code",
   "execution_count": null,
   "id": "d873745c-1d16-4675-a3e6-39bfe6118a13",
   "metadata": {
    "jupyter": {
     "source_hidden": true
    }
   },
   "outputs": [],
   "source": [
    "# Die Schlüssel-Werte ausgeben mit values():\n",
    "for land in laender.values():\n",
    "    print(land)"
   ]
  },
  {
   "cell_type": "code",
   "execution_count": 10,
   "id": "2b3bb6b9-eeca-45a1-9f32-345112205831",
   "metadata": {
    "jupyter": {
     "source_hidden": true
    }
   },
   "outputs": [
    {
     "name": "stdout",
     "output_type": "stream",
     "text": [
      "England hat die Hauptstadt London\n",
      "Frankreich hat die Hauptstadt Paris\n",
      "Deutschland hat die Hauptstadt Berlin\n"
     ]
    }
   ],
   "source": [
    "# Keys & Values mit items()\n",
    "for land, hauptstadt in laender.items():\n",
    "    print(f\"{land} hat die Hauptstadt {hauptstadt}\")"
   ]
  },
  {
   "cell_type": "code",
   "execution_count": null,
   "id": "059bc004-3fc6-4796-973f-9918dd39c794",
   "metadata": {
    "jupyter": {
     "source_hidden": true
    }
   },
   "outputs": [],
   "source": []
  },
  {
   "cell_type": "markdown",
   "id": "d645630d-95cb-41dc-9067-e8fe8a8e1cc3",
   "metadata": {},
   "source": [
    "#### Jeder Schlüssel (Key) darf nur einmal vorkommen!"
   ]
  },
  {
   "cell_type": "code",
   "execution_count": null,
   "id": "a031d21b-23a5-4d96-92b3-7af8500c659a",
   "metadata": {
    "jupyter": {
     "source_hidden": true
    }
   },
   "outputs": [],
   "source": [
    "laender_staedte = {\n",
    "    \"Deutschland\": \"Hamburg\",\n",
    "    \"Deutschland\": \"Berlin\",\n",
    "    \"Deutschland\": \"Karlsruhe\" \n",
    "}\n",
    "\n",
    "print(laender_staedte)"
   ]
  },
  {
   "cell_type": "markdown",
   "id": "b1286b7a-03d9-426f-a6bb-da8bbc863728",
   "metadata": {},
   "source": [
    "### Dictionary Comprehension\n",
    "\n",
    "Wir haben oben das Dictionary\n",
    "```\n",
    "laender = {  \n",
    "    \"England\"    : \"London\",  \n",
    "    \"Frankreich\" : \"Paris\",  \n",
    "    \"Deutschland\": \"Berlin\"}  \n",
    "```\n",
    "erstellt, um zu einem Land effizient die Hauptstadt bestimmen zu können.  \n",
    "\n",
    "Wenn wir nun zu einer Hauptstadt das zugehörige Land finden wollen, ist das mit dem obigen Dictionary nicht ohne Weiteres möglich.  \n",
    "Wir benötigen ein neues Dictionary, das z.B. mittels Dictionary Comprehension erstellt werden kann:\n"
   ]
  },
  {
   "cell_type": "code",
   "execution_count": null,
   "id": "5b588a78-c2e2-4d59-9752-cf1c43edb05d",
   "metadata": {
    "jupyter": {
     "source_hidden": true
    }
   },
   "outputs": [],
   "source": [
    "hauptstaedte = {\n",
    "    stadt:land for land,stadt in laender.items()\n",
    "}\n",
    "\n",
    "print(hauptstaedte)\n",
    "print(hauptstaedte[\"London\"])"
   ]
  },
  {
   "cell_type": "code",
   "execution_count": null,
   "id": "3821cdc3-7a42-4136-af24-fb29fa918477",
   "metadata": {
    "jupyter": {
     "source_hidden": true
    }
   },
   "outputs": [],
   "source": []
  }
 ],
 "metadata": {
  "kernelspec": {
   "display_name": "env",
   "language": "python",
   "name": "python3"
  },
  "language_info": {
   "codemirror_mode": {
    "name": "ipython",
    "version": 3
   },
   "file_extension": ".py",
   "mimetype": "text/x-python",
   "name": "python",
   "nbconvert_exporter": "python",
   "pygments_lexer": "ipython3",
   "version": "3.11.3"
  }
 },
 "nbformat": 4,
 "nbformat_minor": 5
}
