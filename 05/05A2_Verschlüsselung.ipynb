{
 "cells": [
  {
   "cell_type": "markdown",
   "id": "9b699dcf-ca19-4173-a07e-eb0ae3751967",
   "metadata": {},
   "source": [
    "## \"Verschlüsselung\"\n",
    "\n",
    "Implementieren Sie eine Funktion, die ein beliebiges Objekt vom Typ *`str`* als Argument entgegennimmt, Kleinbuchstaben in Großbuchstaben konvertiert und folgende Buchstaben entsprechend austauscht:\n",
    "$$\n",
    "\tA = 4,\n",
    "\tB = 8, \n",
    "\tE = 3,\n",
    "\tG = 6,\n",
    "\tI = 1,\n",
    "\tS = 5,\n",
    "\tT = 7\n",
    "$$\n",
    "\n",
    "Testen Sie Ihre Funktion mit dem folgenden Zitat:\n",
    "\n",
    "<center>\n",
    "\"The measure of Intelligence is the Ability to Change.\" <br> \n",
    "Albert Einstein\n",
    "</center>\n"
   ]
  },
  {
   "cell_type": "code",
   "execution_count": null,
   "id": "6d0a23ce-5930-4d32-b583-869f549c61e3",
   "metadata": {
    "jupyter": {
     "source_hidden": true
    }
   },
   "outputs": [],
   "source": [
    "# Alte Lösung mit if-elif-...\n",
    "\n",
    "def encrypt(string):\n",
    "    \"\"\"\n",
    "    Verschlüsselt das Argument string nach den Regeln: \n",
    "    A=4, B=8, E=3, G=6, I=1, S=5, T=7\n",
    "\n",
    "    args\n",
    "    string\n",
    "      Objekt vom Typ str\n",
    "\n",
    "    return value\n",
    "      \"Verschlüsselung\" von string\n",
    "    \"\"\"\n",
    "    encrypted_string = \"\"\n",
    "    \n",
    "    string_uppercase = string.upper()\n",
    "    for character in string_uppercase:\n",
    "        if character == \"A\":\n",
    "            encrypted_string = encrypted_string + \"4\"\n",
    "        elif  character == \"B\":   \n",
    "            encrypted_string = encrypted_string + \"8\"\n",
    "        elif  character == \"E\":   \n",
    "            encrypted_string = encrypted_string + \"3\"   \n",
    "        elif  character == \"G\":   \n",
    "            encrypted_string = encrypted_string + \"6\"\n",
    "        elif  character == \"I\":   \n",
    "            encrypted_string = encrypted_string + \"1\"\n",
    "        elif  character == \"S\":   \n",
    "            encrypted_string = encrypted_string + \"5\"   \n",
    "        elif  character == \"T\":   \n",
    "            encrypted_string = encrypted_string + \"7\"\n",
    "        else:\n",
    "            encrypted_string = encrypted_string + character\n",
    "\n",
    "    return encrypted_string     \n",
    "\n",
    "# erster Test\n",
    "encrypt(\"abcdefghijklmnopqrstuvwxyz\")"
   ]
  },
  {
   "cell_type": "markdown",
   "id": "1d62ba47-72d1-420d-96c6-ddba85e307b0",
   "metadata": {},
   "source": [
    "#### Jetzt mit Dictionary"
   ]
  },
  {
   "cell_type": "code",
   "execution_count": null,
   "id": "e54ac866-9f30-4716-a21f-8867cd7bc114",
   "metadata": {
    "jupyter": {
     "source_hidden": true
    }
   },
   "outputs": [],
   "source": [
    "def encrypt_new(string):\n",
    "\n",
    "    encryption_key = {\n",
    "        \"A\":\"4\",\n",
    "        \"B\":\"8\",\n",
    "        \"E\":\"3\",\n",
    "        \"G\":\"6\",\n",
    "        \"I\":\"1\",\n",
    "        \"S\":\"5\",\n",
    "        \"T\":\"7\"\n",
    "    }    \n",
    "    \n",
    "    encrypted_string = \"\"\n",
    "    for x in string.upper():\n",
    "        if x in encryption_key:\n",
    "            encrypted_string = encrypted_string + encryption_key[x]\n",
    "        else:\n",
    "            encrypted_string = encrypted_string + x\n",
    "\n",
    "    return encrypted_string\n",
    "\n",
    "encrypt_new(\"abcdefghijklmnopqrstuvwxyz\") == encrypt(\"abcdefghijklmnopqrstuvwxyz\")"
   ]
  },
  {
   "cell_type": "markdown",
   "id": "c3d0e4d0-379d-4f4b-aeef-400e1fb2ac9b",
   "metadata": {},
   "source": [
    "Die `if`-Abfrage `x in encryption_key` ist nur deshalb notwendig, \n",
    "weil ein Dictionary-Zugriff wie z.B. `encryption_key[x]` zu einem Laufzeitfehler führt,\n",
    "wenn der Dictionary-Key `x` nicht gefunden wird: "
   ]
  },
  {
   "cell_type": "code",
   "execution_count": null,
   "id": "8600e32b-bd2a-4143-b4cc-33a773d5ef96",
   "metadata": {
    "jupyter": {
     "source_hidden": true
    }
   },
   "outputs": [],
   "source": [
    "encryption_key = {\n",
    "    \"A\":\"4\",\n",
    "    \"B\":\"8\",\n",
    "    \"E\":\"3\",\n",
    "    \"G\":\"6\",\n",
    "    \"I\":\"1\",\n",
    "    \"S\":\"5\",\n",
    "    \"T\":\"7\"\n",
    "}   \n",
    "\n",
    "encryption_key[\"X\"]"
   ]
  },
  {
   "cell_type": "markdown",
   "id": "585ef4c6-fb2d-46fc-a9de-835965ef91c6",
   "metadata": {},
   "source": [
    "#### Solche Fehler kann man \"abfangen\" und behandeln. Hier ein erstes Beispiel - später mehr dazu."
   ]
  },
  {
   "cell_type": "code",
   "execution_count": null,
   "id": "b9e267ba-13e4-48de-ab09-03eee515f1d5",
   "metadata": {
    "jupyter": {
     "source_hidden": true
    }
   },
   "outputs": [],
   "source": [
    "try:\n",
    "    encryption_key[\"X\"]\n",
    "except KeyError:\n",
    "    print(\"KeyError aufgetreten: Key \\\"X\\\" wurde nicht gefunden\")"
   ]
  },
  {
   "cell_type": "markdown",
   "id": "20a36ad9-85f7-4084-87b3-d70c76e2148b",
   "metadata": {},
   "source": [
    "#### Statt eine Fehlermeldung auszugeben, kann man dieses `try-except`-Konzept auch im Programm ausnutzen:"
   ]
  },
  {
   "cell_type": "code",
   "execution_count": null,
   "id": "49332a7b-b9f5-4d6c-a76d-fc4c77758948",
   "metadata": {
    "jupyter": {
     "source_hidden": true
    }
   },
   "outputs": [],
   "source": [
    "def encrypt_new(string):\n",
    "\n",
    "    encryption_key = {\n",
    "        \"A\":\"4\",\n",
    "        \"B\":\"8\",\n",
    "        \"E\":\"3\",\n",
    "        \"G\":\"6\",\n",
    "        \"I\":\"1\",\n",
    "        \"S\":\"5\",\n",
    "        \"T\":\"7\"\n",
    "    }    \n",
    "    \n",
    "    encrypted_string = \"\"\n",
    "    for x in string.upper():\n",
    "        try:\n",
    "            encrypted_string = encrypted_string + encryption_key[x]\n",
    "        except KeyError:\n",
    "            encrypted_string = encrypted_string + x\n",
    "\n",
    "    return encrypted_string\n",
    "\n",
    "encrypt_new(\"abcdefghijklmnopqrstuvwxyz\") == encrypt(\"abcdefghijklmnopqrstuvwxyz\")"
   ]
  },
  {
   "cell_type": "markdown",
   "id": "f3a63860-a16d-4df4-a134-809b3b78a693",
   "metadata": {},
   "source": [
    "##### Im Rahmen einer sinnvollen Strukturierung des Programms, würde man das Dictionary nicht in der Funktion `encrypt_new()` definieren: Die Aufgabe der Funktion ist es, den Text zu verschlüsseln. Die Aufgabe, den Schlüssel für die Verschlüsselung bereitzustellen, sollte eine andere Funktion übernehmen. **Jede Funktion sollte genau eine Aufgabe haben**."
   ]
  },
  {
   "cell_type": "code",
   "execution_count": null,
   "id": "ca069c1b-8b76-4419-a90e-177298288ce3",
   "metadata": {
    "jupyter": {
     "source_hidden": true
    }
   },
   "outputs": [],
   "source": [
    "def get_encryption_key():\n",
    "    return {\n",
    "        \"A\":\"4\",\n",
    "        \"B\":\"8\",\n",
    "        \"E\":\"3\",\n",
    "        \"G\":\"6\",\n",
    "        \"I\":\"1\",\n",
    "        \"S\":\"5\",\n",
    "        \"T\":\"7\"\n",
    "    }    \n",
    "\n",
    "def encrypt_new(string):\n",
    "\n",
    "    encryption_key = get_encryption_key()   \n",
    "    \n",
    "    encrypted_string = \"\"\n",
    "    for x in string.upper():\n",
    "        try:\n",
    "            encrypted_string = encrypted_string + encryption_key[x]\n",
    "        except:\n",
    "            encrypted_string = encrypted_string + x\n",
    "\n",
    "    return encrypted_string\n",
    "\n",
    "encrypt_new(\"abcdefghijklmnopqrstuvwxyz\") == encrypt(\"abcdefghijklmnopqrstuvwxyz\")"
   ]
  },
  {
   "cell_type": "code",
   "execution_count": null,
   "id": "7d7a8bb4-ff40-45dd-bca5-11bd2a1775cc",
   "metadata": {
    "jupyter": {
     "source_hidden": true
    }
   },
   "outputs": [],
   "source": []
  }
 ],
 "metadata": {
  "kernelspec": {
   "display_name": "Python 3 (ipykernel)",
   "language": "python",
   "name": "python3"
  },
  "language_info": {
   "codemirror_mode": {
    "name": "ipython",
    "version": 3
   },
   "file_extension": ".py",
   "mimetype": "text/x-python",
   "name": "python",
   "nbconvert_exporter": "python",
   "pygments_lexer": "ipython3",
   "version": "3.12.1"
  }
 },
 "nbformat": 4,
 "nbformat_minor": 5
}
