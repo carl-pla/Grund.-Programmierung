{
 "cells": [
  {
   "cell_type": "markdown",
   "id": "dabcaa04-fc63-45eb-b3c6-3972f22b476d",
   "metadata": {},
   "source": [
    "## Dateien"
   ]
  },
  {
   "cell_type": "markdown",
   "id": "af6065b2-d2b9-42af-8e36-ad5de97da351",
   "metadata": {},
   "source": [
    "#### Mit `open(file, mode=\"r\")` kann eine Datei gelesen werden:\n",
    "https://docs.python.org/3.8/library/functions.html#open\n",
    "\n",
    "##### file\n",
    "Pfadname der Datei.\n",
    "Wenn Sie nur den Dateinamen angeben, wird die Datei im Verzeichnis des Notebooks bzw. des Programms gesucht (relativer Pfad).\n",
    "\n",
    "##### Beispiele für mode\n",
    "- \"r\": Read-only, Fehler wenn Datei nicht vorhanden oder wenn versucht wird, die Datei zu ändern.\n",
    "- \"w\": Writing, legt neue Datei an, wenn Datei nicht vorhanden; Überschreibt Daten in Datei.\n",
    "- \"a\": Append, hängt neue Daten an Datei an.\n",
    "\n",
    "##### Rückgabe von `open()` ist ein Datei-Objekt/File-Handle."
   ]
  },
  {
   "cell_type": "markdown",
   "id": "645ffd27-96bc-4605-94f7-3f1d8c1baa0a",
   "metadata": {},
   "source": [
    "#### Wir erzeugen eine Datei (Write Mode) "
   ]
  },
  {
   "cell_type": "code",
   "execution_count": null,
   "id": "744489b7-e227-4c94-a753-ca6f0ae721b7",
   "metadata": {},
   "outputs": [],
   "source": [
    "beispieldatei = open(\"beispiel.txt\", \"w\")\n",
    "print(type(beispieldatei)) #io: input/output"
   ]
  },
  {
   "cell_type": "code",
   "execution_count": null,
   "id": "cbe1845e-4a05-4f3b-880d-b8a47c5e612c",
   "metadata": {},
   "outputs": [],
   "source": [
    "beispieldatei = open(\"beispiel.txt\", \"w\")\n",
    "beispieldatei.write(\"ab1 \\n\")\n",
    "beispieldatei.write(\"cd1\")\n",
    "beispieldatei.close() #Dateien müssen immer geschlossen werden"
   ]
  },
  {
   "cell_type": "markdown",
   "id": "b9e9f3c9-2978-4f39-bb0e-6112524c3457",
   "metadata": {},
   "source": [
    "Wir ändern die Datei separat und rufen den folgenden Code anschließend auf:"
   ]
  },
  {
   "cell_type": "code",
   "execution_count": null,
   "id": "4bd7a7d8-a6f0-411b-a757-e47acb8836db",
   "metadata": {},
   "outputs": [],
   "source": [
    "beispieldatei = open(\"beispiel.txt\", \"w\")\n",
    "beispieldatei.write(\"ab2 \\n\")\n",
    "beispieldatei.write(\"cd2\")\n",
    "beispieldatei.close()"
   ]
  },
  {
   "cell_type": "markdown",
   "id": "b3d645c2-6051-45d5-a3cc-f1c9a2574dce",
   "metadata": {},
   "source": [
    "**Ergebnis**: Änderungen wurden überschrieben"
   ]
  },
  {
   "cell_type": "markdown",
   "id": "35fb1bf7-a008-414b-820e-1f1296d6aa16",
   "metadata": {},
   "source": [
    "##### Wir rufen `open()` im Read-Only Mode für eine nicht-existierende Datei auf:"
   ]
  },
  {
   "cell_type": "code",
   "execution_count": 3,
   "id": "c93dba46-e406-478c-a209-b5f8161cbda4",
   "metadata": {
    "scrolled": true
   },
   "outputs": [
    {
     "ename": "FileNotFoundError",
     "evalue": "[Errno 2] No such file or directory: 'nicht_vorhanden.txt'",
     "output_type": "error",
     "traceback": [
      "\u001b[31m---------------------------------------------------------------------------\u001b[39m",
      "\u001b[31mFileNotFoundError\u001b[39m                         Traceback (most recent call last)",
      "\u001b[36mCell\u001b[39m\u001b[36m \u001b[39m\u001b[32mIn[3]\u001b[39m\u001b[32m, line 1\u001b[39m\n\u001b[32m----> \u001b[39m\u001b[32m1\u001b[39m bsp = \u001b[38;5;28;43mopen\u001b[39;49m\u001b[43m(\u001b[49m\u001b[33;43m\"\u001b[39;49m\u001b[33;43mnicht_vorhanden.txt\u001b[39;49m\u001b[33;43m\"\u001b[39;49m\u001b[43m,\u001b[49m\u001b[43m \u001b[49m\u001b[33;43m\"\u001b[39;49m\u001b[33;43mr\u001b[39;49m\u001b[33;43m\"\u001b[39;49m\u001b[43m)\u001b[49m\n",
      "\u001b[36mFile \u001b[39m\u001b[32m~/Desktop/Uni/Grund_Programmierung/.venv/lib/python3.11/site-packages/IPython/core/interactiveshell.py:343\u001b[39m, in \u001b[36m_modified_open\u001b[39m\u001b[34m(file, *args, **kwargs)\u001b[39m\n\u001b[32m    336\u001b[39m \u001b[38;5;28;01mif\u001b[39;00m file \u001b[38;5;129;01min\u001b[39;00m {\u001b[32m0\u001b[39m, \u001b[32m1\u001b[39m, \u001b[32m2\u001b[39m}:\n\u001b[32m    337\u001b[39m     \u001b[38;5;28;01mraise\u001b[39;00m \u001b[38;5;167;01mValueError\u001b[39;00m(\n\u001b[32m    338\u001b[39m         \u001b[33mf\u001b[39m\u001b[33m\"\u001b[39m\u001b[33mIPython won\u001b[39m\u001b[33m'\u001b[39m\u001b[33mt let you open fd=\u001b[39m\u001b[38;5;132;01m{\u001b[39;00mfile\u001b[38;5;132;01m}\u001b[39;00m\u001b[33m by default \u001b[39m\u001b[33m\"\u001b[39m\n\u001b[32m    339\u001b[39m         \u001b[33m\"\u001b[39m\u001b[33mas it is likely to crash IPython. If you know what you are doing, \u001b[39m\u001b[33m\"\u001b[39m\n\u001b[32m    340\u001b[39m         \u001b[33m\"\u001b[39m\u001b[33myou can use builtins\u001b[39m\u001b[33m'\u001b[39m\u001b[33m open.\u001b[39m\u001b[33m\"\u001b[39m\n\u001b[32m    341\u001b[39m     )\n\u001b[32m--> \u001b[39m\u001b[32m343\u001b[39m \u001b[38;5;28;01mreturn\u001b[39;00m \u001b[43mio_open\u001b[49m\u001b[43m(\u001b[49m\u001b[43mfile\u001b[49m\u001b[43m,\u001b[49m\u001b[43m \u001b[49m\u001b[43m*\u001b[49m\u001b[43margs\u001b[49m\u001b[43m,\u001b[49m\u001b[43m \u001b[49m\u001b[43m*\u001b[49m\u001b[43m*\u001b[49m\u001b[43mkwargs\u001b[49m\u001b[43m)\u001b[49m\n",
      "\u001b[31mFileNotFoundError\u001b[39m: [Errno 2] No such file or directory: 'nicht_vorhanden.txt'"
     ]
    }
   ],
   "source": [
    "bsp = open(\"nicht_vorhanden.txt\", \"r\")"
   ]
  },
  {
   "cell_type": "markdown",
   "id": "65714d71-85c0-4af1-b374-a0fd87d3a22c",
   "metadata": {},
   "source": [
    "#### Dateien sollten nach der Verarbeitung immer mit `close()` geschlossen werden, damit sichergestellt ist, dass alle Daten korrekt verarbeitet und in der Datei gespeichert werden:\n",
    "- Wenn eine Datei in einem Änderungsmodus geöffnet wird (\"w\", \"a\"), werden die geänderten Daten zunächst gepuffert und nicht sofort gespeichert. Ohne `close()` könnte es passieren, dass Änderungen nicht gespeichert werden.\n",
    "- Jede geöffnete Datei belegt ein Betriebssystem-Handle (Ressourcen).\n",
    "- Eine geöffnete Datei könnte bis zu einem close() vor Änderungen an anderer Stelle gesperrt bleiben. \n",
    "\n",
    "\n",
    "Da dies leicht vergessen werden kann oder durch eine Ausnahme z.B. die Zeile mit `beispieldatei.close()`gar nicht erreicht wird, gibt es das `with`Statement:  \n",
    "Wenn der `with`-Block verlassen wird, wird die Datei automatisch geschlossen."
   ]
  },
  {
   "cell_type": "code",
   "execution_count": null,
   "id": "d980a92f-ad24-44b4-9e0e-6e174e8cebe0",
   "metadata": {},
   "outputs": [],
   "source": [
    "with open(\"beispiel.txt\", \"r\") as bsp:\n",
    "    for line in bsp:\n",
    "        print(line, end=\"\")"
   ]
  },
  {
   "cell_type": "markdown",
   "id": "e2527d7b-a381-4e61-ad53-76f6b36abacf",
   "metadata": {},
   "source": [
    "Wir können also mit dem File-Handle bsp über die Zeilen der Datei iterieren.  \n",
    "Jede Zeile ist ein `str`-Objekt: "
   ]
  },
  {
   "cell_type": "code",
   "execution_count": null,
   "id": "1c9a0c28-19b3-47a6-b295-3bd290e78758",
   "metadata": {},
   "outputs": [],
   "source": [
    "with open(\"beispiel.txt\", \"r\") as bsp:\n",
    "    for line in bsp:\n",
    "        print(type(line))"
   ]
  },
  {
   "cell_type": "markdown",
   "id": "29c0d4b8-b3d2-49f8-bbe2-94f6312503e5",
   "metadata": {},
   "source": [
    "#### Im Append-Mode wird die Datei nicht überschrieben, sondern der neue Inhalt an den alten direkt angehängt:"
   ]
  },
  {
   "cell_type": "code",
   "execution_count": null,
   "id": "bcf96b28-f990-4037-997d-f715975af4c8",
   "metadata": {},
   "outputs": [],
   "source": [
    "with open(\"beispiel.txt\", \"a\") as bsp:\n",
    "    bsp.write(\"ef3\")"
   ]
  },
  {
   "cell_type": "code",
   "execution_count": null,
   "id": "4eaccfbe-5584-4008-b74b-e696def1b5d9",
   "metadata": {},
   "outputs": [],
   "source": [
    "with open(\"beispiel.txt\", \"r\") as bsp:\n",
    "    for line in bsp:\n",
    "        print(line, end=\"\")"
   ]
  },
  {
   "cell_type": "code",
   "execution_count": null,
   "id": "4b469e45-b415-451a-9c68-d341ecec15f8",
   "metadata": {},
   "outputs": [],
   "source": [
    "# Wenn wir das in eine neue Zeile schreiben wollen:\n",
    "with open(\"beispiel.txt\", \"a\") as bsp:\n",
    "    bsp.write(\"\\ngh4\")"
   ]
  },
  {
   "cell_type": "code",
   "execution_count": null,
   "id": "ca1aa4aa-c716-45a1-8b3b-61852b13228b",
   "metadata": {},
   "outputs": [],
   "source": [
    "with open(\"beispiel.txt\", \"r\") as bsp:\n",
    "    for line in bsp:\n",
    "        print(line, end=\"\")"
   ]
  },
  {
   "cell_type": "markdown",
   "id": "e0e78212-e14a-4890-b7f8-9a90e8b02ce2",
   "metadata": {},
   "source": [
    "### CSV-Dateien (Comma-Separated Values)\n",
    "\n",
    "#### Können z.B. mit dem built-in Modul `csv` oder dem Paket `pandas` verarbeitet werden."
   ]
  },
  {
   "cell_type": "code",
   "execution_count": 5,
   "id": "feecaab2-9c81-433d-9439-0b7d68e75cb4",
   "metadata": {},
   "outputs": [
    {
     "name": "stdout",
     "output_type": "stream",
     "text": [
      "<class 'list'>\n",
      "<class 'list'>\n",
      "<class 'list'>\n",
      "<class 'list'>\n",
      "<class 'list'>\n",
      "<class 'list'>\n",
      "<class 'list'>\n",
      "<class 'list'>\n",
      "<class 'list'>\n",
      "<class 'list'>\n",
      "<class 'list'>\n",
      "<class 'list'>\n",
      "<class 'list'>\n",
      "<class 'list'>\n"
     ]
    }
   ],
   "source": [
    "import csv\n",
    "\n",
    "with open(\"sw_original.csv\",\"r\") as sw:\n",
    "    sw_reader = csv.reader(sw)\n",
    "    for line in sw_reader:\n",
    "        print(type(line)) #list"
   ]
  },
  {
   "cell_type": "code",
   "execution_count": 6,
   "id": "d330b4d0-9a54-496c-89af-0042ac86c34b",
   "metadata": {
    "scrolled": true
   },
   "outputs": [
    {
     "name": "stdout",
     "output_type": "stream",
     "text": [
      "['Name', 'Role', 'Species', 'Affiliation', 'Homeworld']\n",
      "['Luke Skywalker', 'Jedi Knight', 'Human', 'Rebel Alliance', 'Tatooine']\n",
      "['Darth Vader', 'Sith Lord', 'Human', 'Galactic Empire', 'Tatooine']\n",
      "['Leia Organa', 'Princess/Human', 'Human', 'Rebel Alliance', 'Alderaan']\n",
      "['Han Solo', 'Smuggler', 'Human', 'Rebel Alliance/Corellian', 'Corellia']\n",
      "['Yoda', 'Jedi Master', \"Yoda's species\", 'Jedi Order', 'Dagobah']\n",
      "['Obi-Wan Kenobi', 'Jedi Master', 'Human', 'Jedi Order', 'Stewjon']\n",
      "['Chewbacca', 'Warrior', 'Wookiee', 'Rebel Alliance', 'Kashyyyk']\n",
      "['Palpatine', 'Emperor', 'Human', 'Galactic Empire', 'Naboo']\n",
      "['R2-D2', 'Astromech Droid', 'Droid', 'Rebel Alliance', 'Naboo']\n",
      "['C-3PO', 'Protocol Droid', 'Droid', 'Rebel Alliance', 'Tatooine']\n",
      "['Boba Fett', 'Bounty Hunter', 'Human (Clone)', 'Bounty Hunter', 'Gene pool of Kamino']\n",
      "['Rey', 'Jedi Knight', 'Human', 'Resistance', 'Jakku']\n",
      "['Kylo Ren', 'Dark Side User', 'Human', 'First Order', 'Chandrila']\n"
     ]
    }
   ],
   "source": [
    "with open(\"sw_original.csv\",\"r\") as sw:\n",
    "    sw_reader = csv.reader(sw)\n",
    "    for line in sw_reader:\n",
    "        print(line)"
   ]
  },
  {
   "cell_type": "markdown",
   "id": "fa067995-804c-4b5b-89f2-be6cf59b968c",
   "metadata": {},
   "source": [
    "#### Datei-Kopien erfordern das Öffnen von zwei Dateien:"
   ]
  },
  {
   "cell_type": "code",
   "execution_count": 7,
   "id": "a0a6f1e0-74ac-4639-be1a-fb10467b9f75",
   "metadata": {},
   "outputs": [
    {
     "name": "stdout",
     "output_type": "stream",
     "text": [
      "Name,Role,Species,Affiliation,Homeworld\n",
      "Luke Skywalker,Jedi Knight,Human,Rebel Alliance,Tatooine\n",
      "Darth Vader,Sith Lord,Human,Galactic Empire,Tatooine\n",
      "Leia Organa,Princess/Human,Human,Rebel Alliance,Alderaan\n",
      "Han Solo,Smuggler,Human,Rebel Alliance/Corellian,Corellia\n",
      "Yoda,Jedi Master,Yoda's species,Jedi Order,Dagobah\n",
      "Obi-Wan Kenobi,Jedi Master,Human,Jedi Order,Stewjon\n",
      "Chewbacca,Warrior,Wookiee,Rebel Alliance,Kashyyyk\n",
      "Palpatine,Emperor,Human,Galactic Empire,Naboo\n",
      "R2-D2,Astromech Droid,Droid,Rebel Alliance,Naboo\n",
      "C-3PO,Protocol Droid,Droid,Rebel Alliance,Tatooine\n",
      "Boba Fett,Bounty Hunter,Human (Clone),Bounty Hunter,Gene pool of Kamino\n",
      "Rey,Jedi Knight,Human,Resistance,Jakku\n",
      "Kylo Ren,Dark Side User,Human,First Order,Chandrila\n"
     ]
    }
   ],
   "source": [
    "with open(\"sw_original.csv\",\"r\") as sw_original:\n",
    "    with open(\"sw.csv\", \"w\") as sw_target:\n",
    "        original_lines = sw_original.read() #str-Objekt\n",
    "        print(original_lines)\n",
    "        sw_target.write(original_lines)\n"
   ]
  },
  {
   "cell_type": "markdown",
   "id": "236ff5c0-d598-4f37-94a9-ec02210ea0bf",
   "metadata": {},
   "source": [
    "#### Mace Windu fehlt in der Datei, den müssen wir selbstverständlich hinzufügen.  \n",
    "Hierzu öffnen wir die Datei im Append-Mode:"
   ]
  },
  {
   "cell_type": "code",
   "execution_count": 8,
   "id": "981e1812-bf3e-43e0-bd00-776e5a5f7349",
   "metadata": {},
   "outputs": [],
   "source": [
    "mace_windu = [\"Mace Windu\",\"Jedi Master\",\"Human\",\"Jedi Order\",\"Haruun Kal\"]\n",
    "\n",
    "with open(\"sw.csv\",\"a\") as sw:\n",
    "    sw_writer = csv.writer(sw)\n",
    "    sw_writer.writerow(mace_windu)"
   ]
  },
  {
   "cell_type": "code",
   "execution_count": 9,
   "id": "3b5999b8-925f-42d8-9b20-b1163f6781e4",
   "metadata": {
    "scrolled": true
   },
   "outputs": [
    {
     "name": "stdout",
     "output_type": "stream",
     "text": [
      "['Name', 'Role', 'Species', 'Affiliation', 'Homeworld']\n",
      "['Luke Skywalker', 'Jedi Knight', 'Human', 'Rebel Alliance', 'Tatooine']\n",
      "['Darth Vader', 'Sith Lord', 'Human', 'Galactic Empire', 'Tatooine']\n",
      "['Leia Organa', 'Princess/Human', 'Human', 'Rebel Alliance', 'Alderaan']\n",
      "['Han Solo', 'Smuggler', 'Human', 'Rebel Alliance/Corellian', 'Corellia']\n",
      "['Yoda', 'Jedi Master', \"Yoda's species\", 'Jedi Order', 'Dagobah']\n",
      "['Obi-Wan Kenobi', 'Jedi Master', 'Human', 'Jedi Order', 'Stewjon']\n",
      "['Chewbacca', 'Warrior', 'Wookiee', 'Rebel Alliance', 'Kashyyyk']\n",
      "['Palpatine', 'Emperor', 'Human', 'Galactic Empire', 'Naboo']\n",
      "['R2-D2', 'Astromech Droid', 'Droid', 'Rebel Alliance', 'Naboo']\n",
      "['C-3PO', 'Protocol Droid', 'Droid', 'Rebel Alliance', 'Tatooine']\n",
      "['Boba Fett', 'Bounty Hunter', 'Human (Clone)', 'Bounty Hunter', 'Gene pool of Kamino']\n",
      "['Rey', 'Jedi Knight', 'Human', 'Resistance', 'Jakku']\n",
      "['Kylo Ren', 'Dark Side User', 'Human', 'First Order', 'ChandrilaMace Windu', 'Jedi Master', 'Human', 'Jedi Order', 'Haruun Kal']\n"
     ]
    }
   ],
   "source": [
    "# Ergebnis prüfen:\n",
    "with open(\"sw.csv\",\"r\") as sw:\n",
    "    sw_reader = csv.reader(sw)\n",
    "    for line in sw_reader:\n",
    "        print(line)"
   ]
  },
  {
   "cell_type": "markdown",
   "id": "ddd433ca-f299-4ec0-b579-8113f107bbed",
   "metadata": {},
   "source": [
    "#### Mehrere Zeilen auf einmal anfügen:"
   ]
  },
  {
   "cell_type": "code",
   "execution_count": 10,
   "id": "633294a4-c137-4335-aa10-c526b0018a3e",
   "metadata": {},
   "outputs": [],
   "source": [
    "anakin = [\"Anakin Skywalker\",\"Jedi Knight\",\"Human\",\"Galactic Republic\",\"Tatooine\"]\n",
    "jinn = [\"Qui-Gon Jinn\",\"Jedi Master\",\"Human\",\"Jedi Order\",\"Coruscant\"]\n",
    "\n",
    "# Liste von Listen\n",
    "rows_new = [\n",
    "    anakin,\n",
    "    jinn\n",
    "]\n",
    "\n",
    "with open(\"sw.csv\",\"a\") as sw:\n",
    "    sw_writer = csv.writer(sw)\n",
    "    sw_writer.writerows(rows_new)"
   ]
  },
  {
   "cell_type": "code",
   "execution_count": 11,
   "id": "7ea00716-5663-4c3b-b53a-3aadcd929c8a",
   "metadata": {
    "scrolled": true
   },
   "outputs": [
    {
     "name": "stdout",
     "output_type": "stream",
     "text": [
      "['Name', 'Role', 'Species', 'Affiliation', 'Homeworld']\n",
      "['Luke Skywalker', 'Jedi Knight', 'Human', 'Rebel Alliance', 'Tatooine']\n",
      "['Darth Vader', 'Sith Lord', 'Human', 'Galactic Empire', 'Tatooine']\n",
      "['Leia Organa', 'Princess/Human', 'Human', 'Rebel Alliance', 'Alderaan']\n",
      "['Han Solo', 'Smuggler', 'Human', 'Rebel Alliance/Corellian', 'Corellia']\n",
      "['Yoda', 'Jedi Master', \"Yoda's species\", 'Jedi Order', 'Dagobah']\n",
      "['Obi-Wan Kenobi', 'Jedi Master', 'Human', 'Jedi Order', 'Stewjon']\n",
      "['Chewbacca', 'Warrior', 'Wookiee', 'Rebel Alliance', 'Kashyyyk']\n",
      "['Palpatine', 'Emperor', 'Human', 'Galactic Empire', 'Naboo']\n",
      "['R2-D2', 'Astromech Droid', 'Droid', 'Rebel Alliance', 'Naboo']\n",
      "['C-3PO', 'Protocol Droid', 'Droid', 'Rebel Alliance', 'Tatooine']\n",
      "['Boba Fett', 'Bounty Hunter', 'Human (Clone)', 'Bounty Hunter', 'Gene pool of Kamino']\n",
      "['Rey', 'Jedi Knight', 'Human', 'Resistance', 'Jakku']\n",
      "['Kylo Ren', 'Dark Side User', 'Human', 'First Order', 'ChandrilaMace Windu', 'Jedi Master', 'Human', 'Jedi Order', 'Haruun Kal']\n",
      "['Anakin Skywalker', 'Jedi Knight', 'Human', 'Galactic Republic', 'Tatooine']\n",
      "['Qui-Gon Jinn', 'Jedi Master', 'Human', 'Jedi Order', 'Coruscant']\n"
     ]
    }
   ],
   "source": [
    "# Ergebnis prüfen:\n",
    "with open(\"sw.csv\",\"r\") as sw:\n",
    "    sw_reader = csv.reader(sw)\n",
    "    for line in sw_reader:\n",
    "        print(line)"
   ]
  }
 ],
 "metadata": {
  "kernelspec": {
   "display_name": ".venv",
   "language": "python",
   "name": "python3"
  },
  "language_info": {
   "codemirror_mode": {
    "name": "ipython",
    "version": 3
   },
   "file_extension": ".py",
   "mimetype": "text/x-python",
   "name": "python",
   "nbconvert_exporter": "python",
   "pygments_lexer": "ipython3",
   "version": "3.11.3"
  }
 },
 "nbformat": 4,
 "nbformat_minor": 5
}
