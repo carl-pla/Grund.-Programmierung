{
 "cells": [
  {
   "cell_type": "markdown",
   "id": "defed9b6-853f-40a2-aef2-e458fc04dfba",
   "metadata": {},
   "source": [
    "## Variablen\n",
    "\n",
    "Erinnerung: Variablen sind **Namen (Label)**"
   ]
  },
  {
   "cell_type": "markdown",
   "id": "cc48893d-a45f-4fda-8708-e46dcd0fbda6",
   "metadata": {},
   "source": [
    "Das Objekt 1 vom Typ int bekommt den Namen a:"
   ]
  },
  {
   "cell_type": "code",
   "execution_count": null,
   "id": "c24cdbce-2bbd-4189-8db5-ac4d526a0dfa",
   "metadata": {},
   "outputs": [],
   "source": [
    "a = 1\n",
    "print(a)"
   ]
  },
  {
   "cell_type": "markdown",
   "id": "935caf80-7229-40fa-9865-0cc3e53ced42",
   "metadata": {},
   "source": [
    "Das Objekt 1 kann mehrere Namen bekommen:"
   ]
  },
  {
   "cell_type": "code",
   "execution_count": null,
   "id": "adceab97-4497-4de3-909c-321f2d7b6894",
   "metadata": {},
   "outputs": [],
   "source": [
    "b = 1\n",
    "print(\"a =\",a)\n",
    "print(\"b =\",b)"
   ]
  },
  {
   "cell_type": "code",
   "execution_count": null,
   "id": "3fe4e701-4df7-45f3-be5c-065768dee551",
   "metadata": {},
   "outputs": [],
   "source": [
    "a = 2\n",
    "print(\"a =\",a)\n",
    "print(\"b =\",b)"
   ]
  },
  {
   "cell_type": "markdown",
   "id": "2aeeace5-dd65-49d6-8f1c-dbef5f1e69e4",
   "metadata": {},
   "source": [
    "Der Name welchen Objekts ist y?"
   ]
  },
  {
   "cell_type": "code",
   "execution_count": null,
   "id": "1142107a-5e45-4a7c-ad89-ca9dae03cacf",
   "metadata": {},
   "outputs": [],
   "source": [
    "x = 1\n",
    "y = x\n",
    "print(\"x =\",x)\n",
    "print(\"y =\",y)"
   ]
  },
  {
   "cell_type": "code",
   "execution_count": null,
   "id": "afddfc9e-02f9-4269-b22b-650268c85ed5",
   "metadata": {},
   "outputs": [],
   "source": [
    "x = 2\n",
    "print(\"x =\",x)\n",
    "print(\"y =\",y)"
   ]
  },
  {
   "cell_type": "markdown",
   "id": "3915e682-99e2-41e5-acee-cbb294570689",
   "metadata": {},
   "source": [
    "#### Multiple Assignment"
   ]
  },
  {
   "cell_type": "code",
   "execution_count": null,
   "id": "039ad5f7-95b8-44fd-a878-565b14b8be4a",
   "metadata": {},
   "outputs": [],
   "source": [
    "x, y = 2, 3\n",
    "print(\"x =\",x)\n",
    "print(\"y =\",y)"
   ]
  },
  {
   "cell_type": "markdown",
   "id": "9d6f6ba0-1888-4dfc-bd12-56af8c406e3e",
   "metadata": {},
   "source": [
    "## User Input"
   ]
  },
  {
   "cell_type": "markdown",
   "id": "fe6c04df-5d74-48d8-9569-3217d0aa17dd",
   "metadata": {},
   "source": [
    "Mit der Funktion input() können Sie User-Input anfordern. Das Ergebnis ist immer ein Objekt vom Typ str."
   ]
  },
  {
   "cell_type": "code",
   "execution_count": null,
   "id": "a322d4c0-5bef-4ef7-acc6-3baa9cfc063f",
   "metadata": {},
   "outputs": [],
   "source": [
    "type(input(\"Geben Sie etwas ein:\"))"
   ]
  },
  {
   "cell_type": "markdown",
   "id": "034acfbd-081f-4c68-9906-835a6c9bb05d",
   "metadata": {},
   "source": [
    "Wenn ein User-Input als Zahl (z.B. int) verarbeitet werden soll, muss das Ergebnis zunächst in ein int-Objekt umgewandelt werden."
   ]
  },
  {
   "cell_type": "code",
   "execution_count": null,
   "id": "580c7e95-fe2e-4b86-8687-381784b880ed",
   "metadata": {},
   "outputs": [],
   "source": [
    "ganze_zahl = int(input(\"Geben Sie eine ganze Zahl ein:\"))\n",
    "print(type(ganze_zahl))"
   ]
  },
  {
   "cell_type": "code",
   "execution_count": null,
   "id": "38a829dc-ca32-4375-b6df-e61f12e97310",
   "metadata": {},
   "outputs": [],
   "source": []
  }
 ],
 "metadata": {
  "kernelspec": {
   "display_name": "Python 3 (ipykernel)",
   "language": "python",
   "name": "python3"
  },
  "language_info": {
   "codemirror_mode": {
    "name": "ipython",
    "version": 3
   },
   "file_extension": ".py",
   "mimetype": "text/x-python",
   "name": "python",
   "nbconvert_exporter": "python",
   "pygments_lexer": "ipython3",
   "version": "3.12.1"
  }
 },
 "nbformat": 4,
 "nbformat_minor": 5
}
