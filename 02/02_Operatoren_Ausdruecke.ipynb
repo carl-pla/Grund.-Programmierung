{
 "cells": [
  {
   "cell_type": "markdown",
   "id": "03e040a4-844f-4f9a-93a5-fc630ec15142",
   "metadata": {},
   "source": [
    "## Operatoren & Ausdrücke"
   ]
  },
  {
   "cell_type": "markdown",
   "id": "a389a6c9-18da-4748-9dbd-dbbbced000fd",
   "metadata": {},
   "source": [
    "### Objekte vom Typ int"
   ]
  },
  {
   "cell_type": "code",
   "execution_count": null,
   "id": "82906e8a-7de2-471f-9700-7f76c0e2dfb8",
   "metadata": {},
   "outputs": [],
   "source": [
    "type(2)"
   ]
  },
  {
   "cell_type": "code",
   "execution_count": null,
   "id": "e5ac64f0-91d2-4acb-8ed3-2afb365adb85",
   "metadata": {},
   "outputs": [],
   "source": [
    "print(type(-7))"
   ]
  },
  {
   "cell_type": "markdown",
   "id": "186b505c-b6a4-45d5-b81d-f7b3ba922440",
   "metadata": {},
   "source": [
    "#### Operator +"
   ]
  },
  {
   "cell_type": "code",
   "execution_count": null,
   "id": "8efd5502-e271-44b4-8449-c19e6aa04e6d",
   "metadata": {},
   "outputs": [],
   "source": [
    "2 + (-7)"
   ]
  },
  {
   "cell_type": "markdown",
   "id": "7ba7c01f-59ae-4e65-ba29-9b4cc35696d5",
   "metadata": {},
   "source": [
    "### Objekte vom Typ float"
   ]
  },
  {
   "cell_type": "code",
   "execution_count": null,
   "id": "702fc702-3f04-497c-9eb8-7b2279b4aaec",
   "metadata": {},
   "outputs": [],
   "source": [
    "type(1.0)"
   ]
  },
  {
   "cell_type": "markdown",
   "id": "e7668217-801c-438c-b48c-3b91a82734ee",
   "metadata": {},
   "source": [
    "#### Wissenschaftliche Schreibweise"
   ]
  },
  {
   "cell_type": "code",
   "execution_count": null,
   "id": "9985c674-ff50-42ad-9ad6-4398eef1e5c5",
   "metadata": {},
   "outputs": [],
   "source": [
    "3.4e5"
   ]
  },
  {
   "cell_type": "code",
   "execution_count": null,
   "id": "5f6f8337-baa5-41d3-93ec-dbd6dabe07d5",
   "metadata": {},
   "outputs": [],
   "source": [
    "print(type(3.4 - 1))\n",
    "3.4-1"
   ]
  },
  {
   "cell_type": "markdown",
   "id": "093851d7-9612-40d6-9e17-c6de54547456",
   "metadata": {},
   "source": [
    "### Objekte vom Typ bool"
   ]
  },
  {
   "cell_type": "code",
   "execution_count": null,
   "id": "23410cfb-cc19-4427-9605-163db9da679f",
   "metadata": {},
   "outputs": [],
   "source": [
    "print(type(True))"
   ]
  },
  {
   "cell_type": "markdown",
   "id": "b02f7643-535a-49fe-a088-b67f328995d5",
   "metadata": {},
   "source": [
    "#### Operatoren and, or, not"
   ]
  },
  {
   "cell_type": "code",
   "execution_count": null,
   "id": "8e315560-ee67-43f6-8bc3-9deddfb2f6e6",
   "metadata": {},
   "outputs": [],
   "source": [
    "type(True and False)"
   ]
  },
  {
   "cell_type": "code",
   "execution_count": null,
   "id": "18cda5f5-12e8-4210-a4fa-72535f571e08",
   "metadata": {},
   "outputs": [],
   "source": [
    "print(True and False)\n",
    "print(True or False)\n",
    "print(not False)"
   ]
  },
  {
   "cell_type": "markdown",
   "id": "15ef3160-44f8-4e3b-a231-6e00111c2d53",
   "metadata": {},
   "source": [
    "### None"
   ]
  },
  {
   "cell_type": "code",
   "execution_count": null,
   "id": "f811bef7-ce55-42ea-962f-797c5dc44ae6",
   "metadata": {},
   "outputs": [],
   "source": [
    "None"
   ]
  },
  {
   "cell_type": "markdown",
   "id": "ac685806-4310-4012-9e3e-8eec40cfe649",
   "metadata": {},
   "source": [
    "## Vergleichsoperatoren"
   ]
  },
  {
   "cell_type": "code",
   "execution_count": null,
   "id": "9e477bba-0d11-479b-91fc-e55e26eca4e5",
   "metadata": {},
   "outputs": [],
   "source": [
    "3.0 == 4.4"
   ]
  },
  {
   "cell_type": "markdown",
   "id": "46893f07-4ae3-4caa-9b05-36ce1f51de9e",
   "metadata": {},
   "source": [
    "#### Vergleich von Objekten verschiedener Typen erfordert eine **Type-Conversion**"
   ]
  },
  {
   "cell_type": "code",
   "execution_count": null,
   "id": "40233f3d-38b4-4e31-aa3e-bbc2d8551271",
   "metadata": {},
   "outputs": [],
   "source": [
    "3.0 == 3"
   ]
  },
  {
   "cell_type": "markdown",
   "id": "e3f25b53-65a8-4bb3-909e-46c46156716d",
   "metadata": {},
   "source": [
    "#### ???"
   ]
  },
  {
   "cell_type": "code",
   "execution_count": null,
   "id": "0bf60ea5-7a89-4fe1-a5ad-881dbf900c42",
   "metadata": {},
   "outputs": [],
   "source": [
    "0.1+0.1+0.1+0.1+0.1+0.1+0.1+0.1+0.1+0.1 == 1.0"
   ]
  },
  {
   "cell_type": "markdown",
   "id": "5cde89d8-7095-44c8-b9af-6288a26bc4ae",
   "metadata": {},
   "source": [
    "##### Floating-Point-Arithmetik ist manchmal überraschend"
   ]
  },
  {
   "cell_type": "code",
   "execution_count": null,
   "id": "54ca511d-5767-441c-aa33-aa347c0f7f4e",
   "metadata": {},
   "outputs": [],
   "source": [
    "0.1+0.1+0.1+0.1+0.1+0.1+0.1+0.1+0.1+0.1"
   ]
  },
  {
   "cell_type": "markdown",
   "id": "ca28772d-bdd5-4766-a0f2-cbb69c0dcbd4",
   "metadata": {},
   "source": [
    "#### Und hier?"
   ]
  },
  {
   "cell_type": "code",
   "execution_count": null,
   "id": "0392fd6d-e23a-41fd-9ecc-9cdbd60e07ae",
   "metadata": {},
   "outputs": [],
   "source": [
    "\"3\" < \"10\""
   ]
  },
  {
   "cell_type": "markdown",
   "id": "e4eae747-7ea5-45c6-959c-026ce6c6e6be",
   "metadata": {},
   "source": [
    "#### String-Operationen"
   ]
  },
  {
   "cell_type": "code",
   "execution_count": null,
   "id": "819d713a-c6d5-4368-a6e1-720e9c17b1cd",
   "metadata": {},
   "outputs": [],
   "source": [
    "\"abc\" + \"def\""
   ]
  },
  {
   "cell_type": "code",
   "execution_count": null,
   "id": "64da37d8-90c2-4101-9261-32126e203f07",
   "metadata": {},
   "outputs": [],
   "source": []
  }
 ],
 "metadata": {
  "kernelspec": {
   "display_name": "env",
   "language": "python",
   "name": "python3"
  },
  "language_info": {
   "codemirror_mode": {
    "name": "ipython",
    "version": 3
   },
   "file_extension": ".py",
   "mimetype": "text/x-python",
   "name": "python",
   "nbconvert_exporter": "python",
   "pygments_lexer": "ipython3",
   "version": "3.11.3"
  }
 },
 "nbformat": 4,
 "nbformat_minor": 5
}
