{
 "cells": [
  {
   "cell_type": "markdown",
   "id": "87b2c95e-b8ed-476f-9be0-2aedbd02297c",
   "metadata": {},
   "source": [
    "## Bedingte Anweisungen"
   ]
  },
  {
   "cell_type": "markdown",
   "id": "60293231-2827-4a65-be50-75b843079602",
   "metadata": {},
   "source": [
    "#### Überprüfung ob eine ganze Zahl gerade ist"
   ]
  },
  {
   "cell_type": "code",
   "execution_count": 3,
   "id": "601dafd8-e8a4-480c-a39c-dc0e36815868",
   "metadata": {},
   "outputs": [
    {
     "ename": "KeyboardInterrupt",
     "evalue": "",
     "output_type": "error",
     "traceback": [
      "\u001b[31m---------------------------------------------------------------------------\u001b[39m",
      "\u001b[31mKeyboardInterrupt\u001b[39m                         Traceback (most recent call last)",
      "\u001b[36mCell\u001b[39m\u001b[36m \u001b[39m\u001b[32mIn[3]\u001b[39m\u001b[32m, line 1\u001b[39m\n\u001b[32m----> \u001b[39m\u001b[32m1\u001b[39m ganze_zahl = \u001b[38;5;28mint\u001b[39m(\u001b[38;5;28minput\u001b[39m(\u001b[33m\"\u001b[39m\u001b[33mGeben Sie eine ganze Zahl ein:\u001b[39m\u001b[33m\"\u001b[39m))\n\u001b[32m      3\u001b[39m \u001b[38;5;28;01mif\u001b[39;00m ganze_zahl%\u001b[32m2\u001b[39m == \u001b[32m0\u001b[39m:\n\u001b[32m      4\u001b[39m     \u001b[38;5;28mprint\u001b[39m(\u001b[33m\"\u001b[39m\u001b[33mDie eingegebene ganze Zahl\u001b[39m\u001b[33m\"\u001b[39m,ganze_zahl,\u001b[33m\"\u001b[39m\u001b[33mist gerade.\u001b[39m\u001b[33m\"\u001b[39m)\n",
      "\u001b[36mCell\u001b[39m\u001b[36m \u001b[39m\u001b[32mIn[3]\u001b[39m\u001b[32m, line 1\u001b[39m\n\u001b[32m----> \u001b[39m\u001b[32m1\u001b[39m ganze_zahl = \u001b[38;5;28mint\u001b[39m(\u001b[38;5;28minput\u001b[39m(\u001b[33m\"\u001b[39m\u001b[33mGeben Sie eine ganze Zahl ein:\u001b[39m\u001b[33m\"\u001b[39m))\n\u001b[32m      3\u001b[39m \u001b[38;5;28;01mif\u001b[39;00m ganze_zahl%\u001b[32m2\u001b[39m == \u001b[32m0\u001b[39m:\n\u001b[32m      4\u001b[39m     \u001b[38;5;28mprint\u001b[39m(\u001b[33m\"\u001b[39m\u001b[33mDie eingegebene ganze Zahl\u001b[39m\u001b[33m\"\u001b[39m,ganze_zahl,\u001b[33m\"\u001b[39m\u001b[33mist gerade.\u001b[39m\u001b[33m\"\u001b[39m)\n",
      "\u001b[36mFile \u001b[39m\u001b[32m_pydevd_bundle\\\\pydevd_cython.pyx:1697\u001b[39m, in \u001b[36m_pydevd_bundle.pydevd_cython.SafeCallWrapper.__call__\u001b[39m\u001b[34m()\u001b[39m\n",
      "\u001b[36mFile \u001b[39m\u001b[32m_pydevd_bundle\\\\pydevd_cython.pyx:634\u001b[39m, in \u001b[36m_pydevd_bundle.pydevd_cython.PyDBFrame.trace_dispatch\u001b[39m\u001b[34m()\u001b[39m\n",
      "\u001b[36mFile \u001b[39m\u001b[32m_pydevd_bundle\\\\pydevd_cython.pyx:1112\u001b[39m, in \u001b[36m_pydevd_bundle.pydevd_cython.PyDBFrame.trace_dispatch\u001b[39m\u001b[34m()\u001b[39m\n",
      "\u001b[36mFile \u001b[39m\u001b[32m_pydevd_bundle\\\\pydevd_cython.pyx:1090\u001b[39m, in \u001b[36m_pydevd_bundle.pydevd_cython.PyDBFrame.trace_dispatch\u001b[39m\u001b[34m()\u001b[39m\n",
      "\u001b[36mFile \u001b[39m\u001b[32m_pydevd_bundle\\\\pydevd_cython.pyx:494\u001b[39m, in \u001b[36m_pydevd_bundle.pydevd_cython.PyDBFrame.do_wait_suspend\u001b[39m\u001b[34m()\u001b[39m\n",
      "\u001b[36mFile \u001b[39m\u001b[32m~/Desktop/Uni/Grund. Programmierung/env/lib/python3.11/site-packages/debugpy/_vendored/pydevd/pydevd.py:2188\u001b[39m, in \u001b[36mPyDB.do_wait_suspend\u001b[39m\u001b[34m(self, thread, frame, event, arg, exception_type)\u001b[39m\n\u001b[32m   2185\u001b[39m             from_this_thread.append(frame_custom_thread_id)\n\u001b[32m   2187\u001b[39m     \u001b[38;5;28;01mwith\u001b[39;00m \u001b[38;5;28mself\u001b[39m._threads_suspended_single_notification.notify_thread_suspended(thread_id, thread, stop_reason):\n\u001b[32m-> \u001b[39m\u001b[32m2188\u001b[39m         keep_suspended = \u001b[38;5;28;43mself\u001b[39;49m\u001b[43m.\u001b[49m\u001b[43m_do_wait_suspend\u001b[49m\u001b[43m(\u001b[49m\u001b[43mthread\u001b[49m\u001b[43m,\u001b[49m\u001b[43m \u001b[49m\u001b[43mframe\u001b[49m\u001b[43m,\u001b[49m\u001b[43m \u001b[49m\u001b[43mevent\u001b[49m\u001b[43m,\u001b[49m\u001b[43m \u001b[49m\u001b[43marg\u001b[49m\u001b[43m,\u001b[49m\u001b[43m \u001b[49m\u001b[43mtrace_suspend_type\u001b[49m\u001b[43m,\u001b[49m\u001b[43m \u001b[49m\u001b[43mfrom_this_thread\u001b[49m\u001b[43m,\u001b[49m\u001b[43m \u001b[49m\u001b[43mframes_tracker\u001b[49m\u001b[43m)\u001b[49m\n\u001b[32m   2190\u001b[39m frames_list = \u001b[38;5;28;01mNone\u001b[39;00m\n\u001b[32m   2192\u001b[39m \u001b[38;5;28;01mif\u001b[39;00m keep_suspended:\n\u001b[32m   2193\u001b[39m     \u001b[38;5;66;03m# This means that we should pause again after a set next statement.\u001b[39;00m\n",
      "\u001b[36mFile \u001b[39m\u001b[32m~/Desktop/Uni/Grund. Programmierung/env/lib/python3.11/site-packages/debugpy/_vendored/pydevd/pydevd.py:2257\u001b[39m, in \u001b[36mPyDB._do_wait_suspend\u001b[39m\u001b[34m(self, thread, frame, event, arg, trace_suspend_type, from_this_thread, frames_tracker)\u001b[39m\n\u001b[32m   2254\u001b[39m                 queue.put(internal_cmd)\n\u001b[32m   2255\u001b[39m                 wait_timeout = TIMEOUT_FAST\n\u001b[32m-> \u001b[39m\u001b[32m2257\u001b[39m         \u001b[43mnotify_event\u001b[49m\u001b[43m.\u001b[49m\u001b[43mwait\u001b[49m\u001b[43m(\u001b[49m\u001b[43mwait_timeout\u001b[49m\u001b[43m)\u001b[49m\n\u001b[32m   2258\u001b[39m         notify_event.clear()\n\u001b[32m   2260\u001b[39m \u001b[38;5;28;01mfinally\u001b[39;00m:\n",
      "\u001b[36mFile \u001b[39m\u001b[32m/Library/Frameworks/Python.framework/Versions/3.11/lib/python3.11/threading.py:622\u001b[39m, in \u001b[36mEvent.wait\u001b[39m\u001b[34m(self, timeout)\u001b[39m\n\u001b[32m    620\u001b[39m signaled = \u001b[38;5;28mself\u001b[39m._flag\n\u001b[32m    621\u001b[39m \u001b[38;5;28;01mif\u001b[39;00m \u001b[38;5;129;01mnot\u001b[39;00m signaled:\n\u001b[32m--> \u001b[39m\u001b[32m622\u001b[39m     signaled = \u001b[38;5;28;43mself\u001b[39;49m\u001b[43m.\u001b[49m\u001b[43m_cond\u001b[49m\u001b[43m.\u001b[49m\u001b[43mwait\u001b[49m\u001b[43m(\u001b[49m\u001b[43mtimeout\u001b[49m\u001b[43m)\u001b[49m\n\u001b[32m    623\u001b[39m \u001b[38;5;28;01mreturn\u001b[39;00m signaled\n",
      "\u001b[36mFile \u001b[39m\u001b[32m/Library/Frameworks/Python.framework/Versions/3.11/lib/python3.11/threading.py:324\u001b[39m, in \u001b[36mCondition.wait\u001b[39m\u001b[34m(self, timeout)\u001b[39m\n\u001b[32m    322\u001b[39m \u001b[38;5;28;01melse\u001b[39;00m:\n\u001b[32m    323\u001b[39m     \u001b[38;5;28;01mif\u001b[39;00m timeout > \u001b[32m0\u001b[39m:\n\u001b[32m--> \u001b[39m\u001b[32m324\u001b[39m         gotit = \u001b[43mwaiter\u001b[49m\u001b[43m.\u001b[49m\u001b[43macquire\u001b[49m\u001b[43m(\u001b[49m\u001b[38;5;28;43;01mTrue\u001b[39;49;00m\u001b[43m,\u001b[49m\u001b[43m \u001b[49m\u001b[43mtimeout\u001b[49m\u001b[43m)\u001b[49m\n\u001b[32m    325\u001b[39m     \u001b[38;5;28;01melse\u001b[39;00m:\n\u001b[32m    326\u001b[39m         gotit = waiter.acquire(\u001b[38;5;28;01mFalse\u001b[39;00m)\n",
      "\u001b[31mKeyboardInterrupt\u001b[39m: "
     ]
    }
   ],
   "source": [
    "ganze_zahl = int(input(\"Geben Sie eine ganze Zahl ein:\"))\n",
    "\n",
    "if ganze_zahl%2 == 0:\n",
    "    print(\"Die eingegebene ganze Zahl\",ganze_zahl,\"ist gerade.\")"
   ]
  },
  {
   "cell_type": "code",
   "execution_count": null,
   "id": "53e07bac-4e83-491f-8115-56a2bd70bf08",
   "metadata": {},
   "outputs": [],
   "source": [
    "ganze_zahl = int(input(\"Geben Sie eine ganze Zahl ein:\"))\n",
    "\n",
    "if ganze_zahl%2 == 0:\n",
    "    print(\"Die eingegebene ganze Zahl\",ganze_zahl,\"ist gerade.\")\n",
    "else:\n",
    "    print(\"Die eingegebene ganze Zahl\",ganze_zahl,\"ist ungerade.\")"
   ]
  },
  {
   "cell_type": "markdown",
   "id": "93a599de-b51a-4ea4-9158-61d9aba546ca",
   "metadata": {},
   "source": [
    "#### Überprüfung ob eine Zahl durch 2 und durch 3 teilbar ist"
   ]
  },
  {
   "cell_type": "code",
   "execution_count": 1,
   "id": "e6a1df93-5c62-4bb2-9467-8f20cd3596c7",
   "metadata": {},
   "outputs": [
    {
     "ename": "ValueError",
     "evalue": "invalid literal for int() with base 10: ''",
     "output_type": "error",
     "traceback": [
      "\u001b[31m---------------------------------------------------------------------------\u001b[39m",
      "\u001b[31mValueError\u001b[39m                                Traceback (most recent call last)",
      "\u001b[36mCell\u001b[39m\u001b[36m \u001b[39m\u001b[32mIn[1]\u001b[39m\u001b[32m, line 1\u001b[39m\n\u001b[32m----> \u001b[39m\u001b[32m1\u001b[39m ganze_zahl = \u001b[38;5;28;43mint\u001b[39;49m\u001b[43m(\u001b[49m\u001b[38;5;28;43minput\u001b[39;49m\u001b[43m(\u001b[49m\u001b[33;43m\"\u001b[39;49m\u001b[33;43mGeben Sie eine ganze Zahl ein:\u001b[39;49m\u001b[33;43m\"\u001b[39;49m\u001b[43m)\u001b[49m\u001b[43m)\u001b[49m\n\u001b[32m      3\u001b[39m \u001b[38;5;28;01mif\u001b[39;00m ganze_zahl%\u001b[32m2\u001b[39m == \u001b[32m0\u001b[39m:\n\u001b[32m      4\u001b[39m     \u001b[38;5;28;01mif\u001b[39;00m ganze_zahl%\u001b[32m3\u001b[39m == \u001b[32m0\u001b[39m:\n",
      "\u001b[31mValueError\u001b[39m: invalid literal for int() with base 10: ''"
     ]
    }
   ],
   "source": [
    "ganze_zahl = int(input(\"Geben Sie eine ganze Zahl ein:\"))\n",
    "\n",
    "if ganze_zahl%2 == 0:\n",
    "    if ganze_zahl%3 == 0:\n",
    "        print(\"Die eingegebene ganze Zahl\",ganze_zahl,\"ist durch 2 und 3 teilbar\")"
   ]
  },
  {
   "cell_type": "markdown",
   "id": "7701e0e2-3101-46af-8c26-703fb3ce2334",
   "metadata": {},
   "source": [
    "##### Ergebnis auch für die anderen Fälle ausgeben"
   ]
  },
  {
   "cell_type": "code",
   "execution_count": null,
   "id": "590a8bd3-0450-46a9-8409-c1234041b5f3",
   "metadata": {},
   "outputs": [],
   "source": [
    "ganze_zahl = int(input(\"Geben Sie eine ganze Zahl ein:\"))\n",
    "\n",
    "if ganze_zahl%2 == 0:\n",
    "    if ganze_zahl%3 == 0:\n",
    "        print(\"Die eingegebene ganze Zahl\",ganze_zahl,\"ist durch 2 und 3 teilbar\")\n",
    "    else:\n",
    "        print(\"Die eingegebene ganze Zahl\",ganze_zahl,\"ist durch 2 aber nicht durch 3 teilbar\")\n",
    "else:\n",
    "    print(\"Die eingegebene ganze Zahl\",ganze_zahl,\"ist nicht durch 2 teilbar\")"
   ]
  },
  {
   "cell_type": "markdown",
   "id": "c8f89412-f7b6-45a4-8cac-7446f98b2258",
   "metadata": {},
   "source": [
    "##### Da fehlt noch ein Fall: Für ganze_zahl = 3 ist die Ausgabe noch nicht korrekt."
   ]
  },
  {
   "cell_type": "code",
   "execution_count": null,
   "id": "8db02d51-d4ad-4c49-9ffc-bf29e80425b0",
   "metadata": {},
   "outputs": [],
   "source": [
    "ganze_zahl = int(input(\"Geben Sie eine ganze Zahl ein:\"))\n",
    "\n",
    "if ganze_zahl%2 == 0:\n",
    "    if ganze_zahl%3 == 0:\n",
    "        print(\"Die eingegebene ganze Zahl\",ganze_zahl,\"ist durch 2 und 3 teilbar\")\n",
    "    else:\n",
    "        print(\"Die eingegebene ganze Zahl\",ganze_zahl,\"ist durch 2 aber nicht durch 3 teilbar\")\n",
    "elif ganze_zahl%3 == 0:\n",
    "    print(\"Die eingegebene ganze Zahl\",ganze_zahl,\"ist nicht durch 2 aber durch 3 teilbar\")\n",
    "else:\n",
    "    print(\"Die eingegebene ganze Zahl\",ganze_zahl,\"ist weder durch 2 noch durch 3 teilbar\")"
   ]
  },
  {
   "cell_type": "markdown",
   "id": "7e539197-5cc3-47b1-ad5c-a21df5f4020b",
   "metadata": {},
   "source": [
    "#### Übersichtlicher mit compound boolean Expressions (zusammengesetzte boolsche Ausdrücke)"
   ]
  },
  {
   "cell_type": "code",
   "execution_count": 2,
   "id": "5f909267-d370-4890-83b3-6ab827bcc373",
   "metadata": {},
   "outputs": [
    {
     "name": "stdout",
     "output_type": "stream",
     "text": [
      "Die eingegebene ganze Zahl 3 ist nicht durch 2 aber durch 3 teilbar\n"
     ]
    }
   ],
   "source": [
    "ganze_zahl = int(input(\"Geben Sie eine ganze Zahl ein:\"))\n",
    "\n",
    "if ganze_zahl%2 == 0 and ganze_zahl%3 == 0:\n",
    "    print(\"Die eingegebene ganze Zahl\",ganze_zahl,\"ist durch 2 und 3 teilbar\")\n",
    "elif ganze_zahl%2 == 0:\n",
    "    print(\"Die eingegebene ganze Zahl\",ganze_zahl,\"ist durch 2 aber nicht durch 3 teilbar\")\n",
    "elif ganze_zahl%3 == 0:\n",
    "    print(\"Die eingegebene ganze Zahl\",ganze_zahl,\"ist nicht durch 2 aber durch 3 teilbar\")\n",
    "else:\n",
    "    print(\"Die eingegebene ganze Zahl\",ganze_zahl,\"ist weder durch 2 noch durch 3 teilbar\")"
   ]
  },
  {
   "cell_type": "markdown",
   "id": "d15b1fde-6218-49a2-9fb9-18a4d416a1c7",
   "metadata": {},
   "source": [
    "Bei komplexen zusammengesetzten Ausdrücken ist die Verwendung von Klammern zu empfehlen!"
   ]
  },
  {
   "cell_type": "code",
   "execution_count": null,
   "id": "435c2a3c-af1d-4a93-8d86-806010234992",
   "metadata": {},
   "outputs": [],
   "source": []
  }
 ],
 "metadata": {
  "kernelspec": {
   "display_name": "env",
   "language": "python",
   "name": "python3"
  },
  "language_info": {
   "codemirror_mode": {
    "name": "ipython",
    "version": 3
   },
   "file_extension": ".py",
   "mimetype": "text/x-python",
   "name": "python",
   "nbconvert_exporter": "python",
   "pygments_lexer": "ipython3",
   "version": "3.11.3"
  }
 },
 "nbformat": 4,
 "nbformat_minor": 5
}
